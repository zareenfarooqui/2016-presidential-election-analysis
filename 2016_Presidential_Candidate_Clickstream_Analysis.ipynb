{
 "cells": [
  {
   "cell_type": "markdown",
   "metadata": {},
   "source": [
    "# 2016 Presidential Candidate Clickstream Analysis"
   ]
  },
  {
   "cell_type": "markdown",
   "metadata": {},
   "source": [
    "#### Create DataFrames for February, March, and April 2016 Wikipedia Clicksteam data"
   ]
  },
  {
   "cell_type": "code",
   "execution_count": 1,
   "metadata": {
    "collapsed": true
   },
   "outputs": [],
   "source": [
    "import pandas as pd"
   ]
  },
  {
   "cell_type": "code",
   "execution_count": 2,
   "metadata": {
    "collapsed": false
   },
   "outputs": [],
   "source": [
    "feb_df = pd.read_csv(\"/Users/ZareenFarooqui/Dropbox/Programming/clickstream_analysis/2016_02_en_clickstream.tsv\", sep='\\t', header=0)"
   ]
  },
  {
   "cell_type": "code",
   "execution_count": 3,
   "metadata": {
    "collapsed": true
   },
   "outputs": [],
   "source": [
    "march_df = pd.read_csv(\"/Users/ZareenFarooqui/Dropbox/Programming/clickstream_analysis/2016_03_clickstream.tsv\", sep='\\t', header=0)"
   ]
  },
  {
   "cell_type": "code",
   "execution_count": 4,
   "metadata": {
    "collapsed": true
   },
   "outputs": [],
   "source": [
    "april_df = pd.read_csv(\"/Users/ZareenFarooqui/Dropbox/Programming/clickstream_analysis/2016_04_en_clickstream.tsv\", sep='\\t', header=0)"
   ]
  },
  {
   "cell_type": "code",
   "execution_count": 5,
   "metadata": {
    "collapsed": false
   },
   "outputs": [
    {
     "data": {
      "text/html": [
       "<div>\n",
       "<table border=\"1\" class=\"dataframe\">\n",
       "  <thead>\n",
       "    <tr style=\"text-align: right;\">\n",
       "      <th></th>\n",
       "      <th>prev</th>\n",
       "      <th>curr</th>\n",
       "      <th>type</th>\n",
       "      <th>n</th>\n",
       "    </tr>\n",
       "  </thead>\n",
       "  <tbody>\n",
       "    <tr>\n",
       "      <th>0</th>\n",
       "      <td>Wild_Bill_Hickok</td>\n",
       "      <td>Deadwood,_South_Dakota</td>\n",
       "      <td>link</td>\n",
       "      <td>182</td>\n",
       "    </tr>\n",
       "    <tr>\n",
       "      <th>1</th>\n",
       "      <td>$100</td>\n",
       "      <td>United_States_dollar</td>\n",
       "      <td>link</td>\n",
       "      <td>18</td>\n",
       "    </tr>\n",
       "    <tr>\n",
       "      <th>2</th>\n",
       "      <td>(Ghost)_Riders_in_the_Sky:_A_Cowboy_Legend</td>\n",
       "      <td>Dezperadoz</td>\n",
       "      <td>link</td>\n",
       "      <td>11</td>\n",
       "    </tr>\n",
       "    <tr>\n",
       "      <th>3</th>\n",
       "      <td>(Ghost)_Riders_in_the_Sky:_A_Cowboy_Legend</td>\n",
       "      <td>Stan_Jones_(songwriter)</td>\n",
       "      <td>link</td>\n",
       "      <td>517</td>\n",
       "    </tr>\n",
       "    <tr>\n",
       "      <th>4</th>\n",
       "      <td>(Hey_You)_The_Rock_Steady_Crew</td>\n",
       "      <td>Rock_Steady_Crew</td>\n",
       "      <td>link</td>\n",
       "      <td>106</td>\n",
       "    </tr>\n",
       "  </tbody>\n",
       "</table>\n",
       "</div>"
      ],
      "text/plain": [
       "                                         prev                     curr  type  \\\n",
       "0                            Wild_Bill_Hickok   Deadwood,_South_Dakota  link   \n",
       "1                                        $100     United_States_dollar  link   \n",
       "2  (Ghost)_Riders_in_the_Sky:_A_Cowboy_Legend               Dezperadoz  link   \n",
       "3  (Ghost)_Riders_in_the_Sky:_A_Cowboy_Legend  Stan_Jones_(songwriter)  link   \n",
       "4              (Hey_You)_The_Rock_Steady_Crew         Rock_Steady_Crew  link   \n",
       "\n",
       "     n  \n",
       "0  182  \n",
       "1   18  \n",
       "2   11  \n",
       "3  517  \n",
       "4  106  "
      ]
     },
     "execution_count": 5,
     "metadata": {},
     "output_type": "execute_result"
    }
   ],
   "source": [
    "feb_df.head()"
   ]
  },
  {
   "cell_type": "code",
   "execution_count": 6,
   "metadata": {
    "collapsed": true
   },
   "outputs": [],
   "source": [
    "feb_df.rename(columns = {'n':'feb-n'}, inplace = True)"
   ]
  },
  {
   "cell_type": "code",
   "execution_count": 7,
   "metadata": {
    "collapsed": true
   },
   "outputs": [],
   "source": [
    "march_df.rename(columns = {'n':'march-n'}, inplace = True)"
   ]
  },
  {
   "cell_type": "code",
   "execution_count": 8,
   "metadata": {
    "collapsed": true
   },
   "outputs": [],
   "source": [
    "april_df.rename(columns = {'n':'april-n'}, inplace = True)"
   ]
  },
  {
   "cell_type": "code",
   "execution_count": 9,
   "metadata": {
    "collapsed": true
   },
   "outputs": [],
   "source": [
    "list2display = [\"Harry_Potter\", \"Michelle_Obama\", \"Washington,_D.C.\",\n",
    "                \"United_States_presidential_election,_2016\"]"
   ]
  },
  {
   "cell_type": "code",
   "execution_count": 11,
   "metadata": {
    "collapsed": false
   },
   "outputs": [],
   "source": [
    "list_df = pd.DataFrame()\n",
    "\n",
    "for each in list2display:\n",
    "    list_df = pd.concat([list_df, feb_df[feb_df.curr == each]])"
   ]
  },
  {
   "cell_type": "code",
   "execution_count": 12,
   "metadata": {
    "collapsed": false
   },
   "outputs": [
    {
     "data": {
      "text/html": [
       "<div>\n",
       "<table border=\"1\" class=\"dataframe\">\n",
       "  <thead>\n",
       "    <tr style=\"text-align: right;\">\n",
       "      <th></th>\n",
       "      <th>prev</th>\n",
       "      <th>curr</th>\n",
       "      <th>type</th>\n",
       "      <th>feb-n</th>\n",
       "    </tr>\n",
       "  </thead>\n",
       "  <tbody>\n",
       "    <tr>\n",
       "      <th>6</th>\n",
       "      <td>1964</td>\n",
       "      <td>Michelle_Obama</td>\n",
       "      <td>link</td>\n",
       "      <td>23</td>\n",
       "    </tr>\n",
       "    <tr>\n",
       "      <th>7</th>\n",
       "      <td>1968_Washington,_D.C._riots</td>\n",
       "      <td>Washington,_D.C.</td>\n",
       "      <td>link</td>\n",
       "      <td>14</td>\n",
       "    </tr>\n",
       "    <tr>\n",
       "      <th>8</th>\n",
       "      <td>1990s</td>\n",
       "      <td>Harry_Potter</td>\n",
       "      <td>link</td>\n",
       "      <td>19</td>\n",
       "    </tr>\n",
       "    <tr>\n",
       "      <th>9</th>\n",
       "      <td>1994_FIFA_World_Cup</td>\n",
       "      <td>Washington,_D.C.</td>\n",
       "      <td>link</td>\n",
       "      <td>14</td>\n",
       "    </tr>\n",
       "    <tr>\n",
       "      <th>10</th>\n",
       "      <td>19_Kids_and_Counting</td>\n",
       "      <td>United_States_presidential_election,_2016</td>\n",
       "      <td>other</td>\n",
       "      <td>18</td>\n",
       "    </tr>\n",
       "  </tbody>\n",
       "</table>\n",
       "</div>"
      ],
      "text/plain": [
       "                           prev                                       curr  \\\n",
       "6                          1964                             Michelle_Obama   \n",
       "7   1968_Washington,_D.C._riots                           Washington,_D.C.   \n",
       "8                         1990s                               Harry_Potter   \n",
       "9           1994_FIFA_World_Cup                           Washington,_D.C.   \n",
       "10         19_Kids_and_Counting  United_States_presidential_election,_2016   \n",
       "\n",
       "     type  feb-n  \n",
       "6    link     23  \n",
       "7    link     14  \n",
       "8    link     19  \n",
       "9    link     14  \n",
       "10  other     18  "
      ]
     },
     "execution_count": 12,
     "metadata": {},
     "output_type": "execute_result"
    }
   ],
   "source": [
    "list_df.groupby(['prev', 'curr','type']).first().reset_index()[6:11]"
   ]
  },
  {
   "cell_type": "markdown",
   "metadata": {},
   "source": [
    "# Could this data predict the success of the 2016 presidential candidates?"
   ]
  },
  {
   "cell_type": "markdown",
   "metadata": {},
   "source": [
    "### Let's start by analyzing February 2016."
   ]
  },
  {
   "cell_type": "code",
   "execution_count": 13,
   "metadata": {
    "collapsed": true
   },
   "outputs": [],
   "source": [
    "# all candidates running in Feb 2016\n",
    "politicians_feb_list = ['Ben_Carson', 'Bernie_Sanders', 'Carly_Fiorina', 'Chris_Christie', 'Donald_Trump', 'Hillary_Clinton', 'Jeb_Bush', 'Jim_Gilmore', 'John_Kasich', 'Marco_Rubio', \"Martin_O'Malley\", 'Mike_Huckabee', 'Rand_Paul', 'Rick_Santorum', 'Ted_Cruz']"
   ]
  },
  {
   "cell_type": "code",
   "execution_count": 14,
   "metadata": {
    "collapsed": true
   },
   "outputs": [],
   "source": [
    "politicians_feb_df = pd.DataFrame()\n",
    "\n",
    "for name in politicians_feb_list:\n",
    "    politicians_feb_df = pd.concat([politicians_feb_df, \n",
    "                              feb_df[feb_df.curr == name].groupby('curr').sum()])"
   ]
  },
  {
   "cell_type": "markdown",
   "metadata": {},
   "source": [
    "#### The presidential candidates in February 2016,  sorted by number of visits to their Wikipedia page in February:"
   ]
  },
  {
   "cell_type": "code",
   "execution_count": 15,
   "metadata": {
    "collapsed": false
   },
   "outputs": [
    {
     "data": {
      "text/html": [
       "<div>\n",
       "<table border=\"1\" class=\"dataframe\">\n",
       "  <thead>\n",
       "    <tr style=\"text-align: right;\">\n",
       "      <th></th>\n",
       "      <th>feb-n</th>\n",
       "    </tr>\n",
       "    <tr>\n",
       "      <th>curr</th>\n",
       "      <th></th>\n",
       "    </tr>\n",
       "  </thead>\n",
       "  <tbody>\n",
       "    <tr>\n",
       "      <th>Donald_Trump</th>\n",
       "      <td>8226748</td>\n",
       "    </tr>\n",
       "    <tr>\n",
       "      <th>Bernie_Sanders</th>\n",
       "      <td>3505934</td>\n",
       "    </tr>\n",
       "    <tr>\n",
       "      <th>Ted_Cruz</th>\n",
       "      <td>2231785</td>\n",
       "    </tr>\n",
       "    <tr>\n",
       "      <th>Marco_Rubio</th>\n",
       "      <td>1791416</td>\n",
       "    </tr>\n",
       "    <tr>\n",
       "      <th>Hillary_Clinton</th>\n",
       "      <td>1223988</td>\n",
       "    </tr>\n",
       "    <tr>\n",
       "      <th>John_Kasich</th>\n",
       "      <td>919589</td>\n",
       "    </tr>\n",
       "    <tr>\n",
       "      <th>Jeb_Bush</th>\n",
       "      <td>887982</td>\n",
       "    </tr>\n",
       "    <tr>\n",
       "      <th>Ben_Carson</th>\n",
       "      <td>502375</td>\n",
       "    </tr>\n",
       "    <tr>\n",
       "      <th>Chris_Christie</th>\n",
       "      <td>256310</td>\n",
       "    </tr>\n",
       "    <tr>\n",
       "      <th>Carly_Fiorina</th>\n",
       "      <td>199287</td>\n",
       "    </tr>\n",
       "    <tr>\n",
       "      <th>Rand_Paul</th>\n",
       "      <td>164719</td>\n",
       "    </tr>\n",
       "    <tr>\n",
       "      <th>Martin_O'Malley</th>\n",
       "      <td>130471</td>\n",
       "    </tr>\n",
       "    <tr>\n",
       "      <th>Jim_Gilmore</th>\n",
       "      <td>106401</td>\n",
       "    </tr>\n",
       "    <tr>\n",
       "      <th>Rick_Santorum</th>\n",
       "      <td>88802</td>\n",
       "    </tr>\n",
       "    <tr>\n",
       "      <th>Mike_Huckabee</th>\n",
       "      <td>64508</td>\n",
       "    </tr>\n",
       "  </tbody>\n",
       "</table>\n",
       "</div>"
      ],
      "text/plain": [
       "                   feb-n\n",
       "curr                    \n",
       "Donald_Trump     8226748\n",
       "Bernie_Sanders   3505934\n",
       "Ted_Cruz         2231785\n",
       "Marco_Rubio      1791416\n",
       "Hillary_Clinton  1223988\n",
       "John_Kasich       919589\n",
       "Jeb_Bush          887982\n",
       "Ben_Carson        502375\n",
       "Chris_Christie    256310\n",
       "Carly_Fiorina     199287\n",
       "Rand_Paul         164719\n",
       "Martin_O'Malley   130471\n",
       "Jim_Gilmore       106401\n",
       "Rick_Santorum      88802\n",
       "Mike_Huckabee      64508"
      ]
     },
     "execution_count": 15,
     "metadata": {},
     "output_type": "execute_result"
    }
   ],
   "source": [
    "politicians_feb_df.sort_values('feb-n', ascending=False)"
   ]
  },
  {
   "cell_type": "markdown",
   "metadata": {},
   "source": [
    "![alt text](feb_2016.png \"February 2016 Wikipedia Page Visits\")"
   ]
  },
  {
   "cell_type": "markdown",
   "metadata": {},
   "source": [
    "#### In February 2016, the following candidates dropped out of the race: \n",
    "* Martin O'Malley\n",
    "* Mike Huckabee\n",
    "* Rand Paul\n",
    "* Rick Santorum\n",
    "* Carly Fiorina\n",
    "* Chris Christie\n",
    "* Jeb Bush\n",
    "* Jim Gilmore\n"
   ]
  },
  {
   "cell_type": "markdown",
   "metadata": {},
   "source": [
    "### Indeed, of the 10 least popular candidates, 8  dropped out."
   ]
  },
  {
   "cell_type": "markdown",
   "metadata": {},
   "source": [
    "### Now let's analyze March 2016 data."
   ]
  },
  {
   "cell_type": "code",
   "execution_count": 16,
   "metadata": {
    "collapsed": true
   },
   "outputs": [],
   "source": [
    "# all candidates running in March 2016\n",
    "politicians_march_list = ['Ben_Carson', 'Bernie_Sanders', 'Donald_Trump', 'Hillary_Clinton',\n",
    "                          'John_Kasich', 'Marco_Rubio',  'Ted_Cruz']"
   ]
  },
  {
   "cell_type": "code",
   "execution_count": 17,
   "metadata": {
    "collapsed": false
   },
   "outputs": [],
   "source": [
    "politicians_march_df = pd.DataFrame()\n",
    "\n",
    "for name in politicians_march_list:\n",
    "    politicians_march_df = pd.concat([politicians_march_df, \n",
    "                              march_df[march_df.curr == name].groupby('curr').sum()])"
   ]
  },
  {
   "cell_type": "markdown",
   "metadata": {},
   "source": [
    "#### The presidential candidates in March 2016,  sorted by number of visits to their Wikipedia page in March:"
   ]
  },
  {
   "cell_type": "code",
   "execution_count": 18,
   "metadata": {
    "collapsed": false
   },
   "outputs": [
    {
     "data": {
      "text/html": [
       "<div>\n",
       "<table border=\"1\" class=\"dataframe\">\n",
       "  <thead>\n",
       "    <tr style=\"text-align: right;\">\n",
       "      <th></th>\n",
       "      <th>march-n</th>\n",
       "    </tr>\n",
       "    <tr>\n",
       "      <th>curr</th>\n",
       "      <th></th>\n",
       "    </tr>\n",
       "  </thead>\n",
       "  <tbody>\n",
       "    <tr>\n",
       "      <th>Donald_Trump</th>\n",
       "      <td>21247127</td>\n",
       "    </tr>\n",
       "    <tr>\n",
       "      <th>Bernie_Sanders</th>\n",
       "      <td>1966194</td>\n",
       "    </tr>\n",
       "    <tr>\n",
       "      <th>Ted_Cruz</th>\n",
       "      <td>1658620</td>\n",
       "    </tr>\n",
       "    <tr>\n",
       "      <th>Hillary_Clinton</th>\n",
       "      <td>1440389</td>\n",
       "    </tr>\n",
       "    <tr>\n",
       "      <th>John_Kasich</th>\n",
       "      <td>1178176</td>\n",
       "    </tr>\n",
       "    <tr>\n",
       "      <th>Marco_Rubio</th>\n",
       "      <td>1014123</td>\n",
       "    </tr>\n",
       "    <tr>\n",
       "      <th>Ben_Carson</th>\n",
       "      <td>415918</td>\n",
       "    </tr>\n",
       "  </tbody>\n",
       "</table>\n",
       "</div>"
      ],
      "text/plain": [
       "                  march-n\n",
       "curr                     \n",
       "Donald_Trump     21247127\n",
       "Bernie_Sanders    1966194\n",
       "Ted_Cruz          1658620\n",
       "Hillary_Clinton   1440389\n",
       "John_Kasich       1178176\n",
       "Marco_Rubio       1014123\n",
       "Ben_Carson         415918"
      ]
     },
     "execution_count": 18,
     "metadata": {},
     "output_type": "execute_result"
    }
   ],
   "source": [
    "politicians_march_df.sort_values('march-n', ascending=False)"
   ]
  },
  {
   "cell_type": "markdown",
   "metadata": {},
   "source": [
    "![alt text](march_2016.png \"March 2016 Wikipedia Page Visits\")"
   ]
  },
  {
   "cell_type": "markdown",
   "metadata": {},
   "source": [
    "#### In March 2016, the following candidates dropped out of the race:\n",
    "* Ben Carson\n",
    "* Marco Rubio\n"
   ]
  },
  {
   "cell_type": "markdown",
   "metadata": {},
   "source": [
    "### Again, the 2 least popular candidates on Wikipedia dropped out of the race."
   ]
  },
  {
   "cell_type": "markdown",
   "metadata": {},
   "source": [
    "Diving into where the most traffic to DT's page came from- why did it blow up in March?"
   ]
  },
  {
   "cell_type": "code",
   "execution_count": 19,
   "metadata": {
    "collapsed": false
   },
   "outputs": [],
   "source": [
    "dt_df = march_df[march_df.curr == \"Donald_Trump\"].groupby('prev').sum()"
   ]
  },
  {
   "cell_type": "code",
   "execution_count": 20,
   "metadata": {
    "collapsed": false
   },
   "outputs": [
    {
     "data": {
      "text/html": [
       "<div>\n",
       "<table border=\"1\" class=\"dataframe\">\n",
       "  <thead>\n",
       "    <tr style=\"text-align: right;\">\n",
       "      <th></th>\n",
       "      <th>march-n</th>\n",
       "    </tr>\n",
       "    <tr>\n",
       "      <th>prev</th>\n",
       "      <th></th>\n",
       "    </tr>\n",
       "  </thead>\n",
       "  <tbody>\n",
       "    <tr>\n",
       "      <th>other-empty</th>\n",
       "      <td>13007693</td>\n",
       "    </tr>\n",
       "    <tr>\n",
       "      <th>other-google</th>\n",
       "      <td>3599213</td>\n",
       "    </tr>\n",
       "    <tr>\n",
       "      <th>other-facebook</th>\n",
       "      <td>3024676</td>\n",
       "    </tr>\n",
       "    <tr>\n",
       "      <th>other-twitter</th>\n",
       "      <td>269423</td>\n",
       "    </tr>\n",
       "    <tr>\n",
       "      <th>other-wikipedia</th>\n",
       "      <td>176828</td>\n",
       "    </tr>\n",
       "    <tr>\n",
       "      <th>other-bing</th>\n",
       "      <td>168832</td>\n",
       "    </tr>\n",
       "    <tr>\n",
       "      <th>other-other</th>\n",
       "      <td>154339</td>\n",
       "    </tr>\n",
       "    <tr>\n",
       "      <th>other-yahoo</th>\n",
       "      <td>139786</td>\n",
       "    </tr>\n",
       "    <tr>\n",
       "      <th>Melania_Trump</th>\n",
       "      <td>120030</td>\n",
       "    </tr>\n",
       "    <tr>\n",
       "      <th>Marla_Maples</th>\n",
       "      <td>90946</td>\n",
       "    </tr>\n",
       "  </tbody>\n",
       "</table>\n",
       "</div>"
      ],
      "text/plain": [
       "                  march-n\n",
       "prev                     \n",
       "other-empty      13007693\n",
       "other-google      3599213\n",
       "other-facebook    3024676\n",
       "other-twitter      269423\n",
       "other-wikipedia    176828\n",
       "other-bing         168832\n",
       "other-other        154339\n",
       "other-yahoo        139786\n",
       "Melania_Trump      120030\n",
       "Marla_Maples        90946"
      ]
     },
     "execution_count": 20,
     "metadata": {},
     "output_type": "execute_result"
    }
   ],
   "source": [
    "dt_df.sort_values('march-n', ascending=False).head(10)"
   ]
  },
  {
   "cell_type": "markdown",
   "metadata": {},
   "source": [
    "### What about April?"
   ]
  },
  {
   "cell_type": "code",
   "execution_count": 21,
   "metadata": {
    "collapsed": true
   },
   "outputs": [],
   "source": [
    "# all candidates running in April 2016\n",
    "politicians_april_list = ['Bernie_Sanders', 'Donald_Trump', 'Hillary_Clinton', 'John_Kasich', 'Ted_Cruz']"
   ]
  },
  {
   "cell_type": "code",
   "execution_count": 22,
   "metadata": {
    "collapsed": true
   },
   "outputs": [],
   "source": [
    "politicians_april_df = pd.DataFrame()\n",
    "\n",
    "for name in politicians_april_list:\n",
    "    politicians_april_df = pd.concat([politicians_april_df, \n",
    "                              april_df[april_df.curr == name].groupby('curr').sum()])"
   ]
  },
  {
   "cell_type": "markdown",
   "metadata": {},
   "source": [
    "#### The presidential candidates in April 2016,  sorted by number of visits to their Wikipedia page in April:"
   ]
  },
  {
   "cell_type": "code",
   "execution_count": 23,
   "metadata": {
    "collapsed": false
   },
   "outputs": [
    {
     "data": {
      "text/html": [
       "<div>\n",
       "<table border=\"1\" class=\"dataframe\">\n",
       "  <thead>\n",
       "    <tr style=\"text-align: right;\">\n",
       "      <th></th>\n",
       "      <th>april-n</th>\n",
       "    </tr>\n",
       "    <tr>\n",
       "      <th>curr</th>\n",
       "      <th></th>\n",
       "    </tr>\n",
       "  </thead>\n",
       "  <tbody>\n",
       "    <tr>\n",
       "      <th>Donald_Trump</th>\n",
       "      <td>3278321</td>\n",
       "    </tr>\n",
       "    <tr>\n",
       "      <th>Bernie_Sanders</th>\n",
       "      <td>1285179</td>\n",
       "    </tr>\n",
       "    <tr>\n",
       "      <th>Hillary_Clinton</th>\n",
       "      <td>870325</td>\n",
       "    </tr>\n",
       "    <tr>\n",
       "      <th>Ted_Cruz</th>\n",
       "      <td>819175</td>\n",
       "    </tr>\n",
       "    <tr>\n",
       "      <th>John_Kasich</th>\n",
       "      <td>392893</td>\n",
       "    </tr>\n",
       "  </tbody>\n",
       "</table>\n",
       "</div>"
      ],
      "text/plain": [
       "                 april-n\n",
       "curr                    \n",
       "Donald_Trump     3278321\n",
       "Bernie_Sanders   1285179\n",
       "Hillary_Clinton   870325\n",
       "Ted_Cruz          819175\n",
       "John_Kasich       392893"
      ]
     },
     "execution_count": 23,
     "metadata": {},
     "output_type": "execute_result"
    }
   ],
   "source": [
    "politicians_april_df.sort_values('april-n', ascending=False)"
   ]
  },
  {
   "cell_type": "markdown",
   "metadata": {},
   "source": [
    "![alt text](april_2016.png \"April 2016 Wikipedia Page Visits\")"
   ]
  },
  {
   "cell_type": "markdown",
   "metadata": {},
   "source": [
    "#### No candidates dropped out of the race in April 2016. \n",
    "\n",
    "### However, in May 2016 the following candidates dropped out of the race:\n",
    "* Ted Cruz\n",
    "* John Kasich"
   ]
  },
  {
   "cell_type": "markdown",
   "metadata": {},
   "source": [
    "# Indeed, Wikipedia Clickstream data has accurately predicted the success of presidential candidates up to from February 2016 to April 2016. "
   ]
  },
  {
   "cell_type": "markdown",
   "metadata": {},
   "source": [
    "# Facebook vs. Twitter vs. Google "
   ]
  },
  {
   "cell_type": "markdown",
   "metadata": {},
   "source": [
    "#### Which platform drove most traffic to the candidate's pages? (using March 2016 data b/c it differentiates between facebook/twitter/google)"
   ]
  },
  {
   "cell_type": "code",
   "execution_count": 24,
   "metadata": {
    "collapsed": true
   },
   "outputs": [],
   "source": [
    "# all candidates running at the end of May 2016\n",
    "politicians_current_list = ['Bernie_Sanders', 'Donald_Trump', 'Hillary_Clinton']"
   ]
  },
  {
   "cell_type": "code",
   "execution_count": 25,
   "metadata": {
    "collapsed": false
   },
   "outputs": [],
   "source": [
    "fb_df = pd.DataFrame()\n",
    "\n",
    "for name in politicians_current_list:\n",
    "    fb_df = pd.concat([fb_df, \n",
    "                      march_df[(march_df['curr'] == name) &\n",
    "                               (march_df['prev'] == \"other-facebook\")]])"
   ]
  },
  {
   "cell_type": "code",
   "execution_count": 26,
   "metadata": {
    "collapsed": false
   },
   "outputs": [
    {
     "data": {
      "text/html": [
       "<div>\n",
       "<table border=\"1\" class=\"dataframe\">\n",
       "  <thead>\n",
       "    <tr style=\"text-align: right;\">\n",
       "      <th></th>\n",
       "      <th>prev</th>\n",
       "      <th>curr</th>\n",
       "      <th>type</th>\n",
       "      <th>march-n</th>\n",
       "    </tr>\n",
       "  </thead>\n",
       "  <tbody>\n",
       "    <tr>\n",
       "      <th>17113887</th>\n",
       "      <td>other-facebook</td>\n",
       "      <td>Donald_Trump</td>\n",
       "      <td>external</td>\n",
       "      <td>3024676</td>\n",
       "    </tr>\n",
       "    <tr>\n",
       "      <th>2622838</th>\n",
       "      <td>other-facebook</td>\n",
       "      <td>Bernie_Sanders</td>\n",
       "      <td>external</td>\n",
       "      <td>12183</td>\n",
       "    </tr>\n",
       "    <tr>\n",
       "      <th>6329890</th>\n",
       "      <td>other-facebook</td>\n",
       "      <td>Hillary_Clinton</td>\n",
       "      <td>external</td>\n",
       "      <td>1638</td>\n",
       "    </tr>\n",
       "  </tbody>\n",
       "</table>\n",
       "</div>"
      ],
      "text/plain": [
       "                    prev             curr      type  march-n\n",
       "17113887  other-facebook     Donald_Trump  external  3024676\n",
       "2622838   other-facebook   Bernie_Sanders  external    12183\n",
       "6329890   other-facebook  Hillary_Clinton  external     1638"
      ]
     },
     "execution_count": 26,
     "metadata": {},
     "output_type": "execute_result"
    }
   ],
   "source": [
    "fb_df.sort_values('march-n', ascending=False)"
   ]
  },
  {
   "cell_type": "code",
   "execution_count": 27,
   "metadata": {
    "collapsed": true
   },
   "outputs": [],
   "source": [
    "twitter_df = pd.DataFrame()\n",
    "\n",
    "for name in politicians_current_list:\n",
    "    twitter_df = pd.concat([twitter_df, \n",
    "                      march_df[(march_df['curr'] == name) &\n",
    "                               (march_df['prev'] == \"other-twitter\")]])"
   ]
  },
  {
   "cell_type": "code",
   "execution_count": 28,
   "metadata": {
    "collapsed": false
   },
   "outputs": [
    {
     "data": {
      "text/html": [
       "<div>\n",
       "<table border=\"1\" class=\"dataframe\">\n",
       "  <thead>\n",
       "    <tr style=\"text-align: right;\">\n",
       "      <th></th>\n",
       "      <th>prev</th>\n",
       "      <th>curr</th>\n",
       "      <th>type</th>\n",
       "      <th>march-n</th>\n",
       "    </tr>\n",
       "  </thead>\n",
       "  <tbody>\n",
       "    <tr>\n",
       "      <th>8065526</th>\n",
       "      <td>other-twitter</td>\n",
       "      <td>Donald_Trump</td>\n",
       "      <td>external</td>\n",
       "      <td>269423</td>\n",
       "    </tr>\n",
       "    <tr>\n",
       "      <th>13793075</th>\n",
       "      <td>other-twitter</td>\n",
       "      <td>Bernie_Sanders</td>\n",
       "      <td>external</td>\n",
       "      <td>1397</td>\n",
       "    </tr>\n",
       "    <tr>\n",
       "      <th>17503934</th>\n",
       "      <td>other-twitter</td>\n",
       "      <td>Hillary_Clinton</td>\n",
       "      <td>external</td>\n",
       "      <td>657</td>\n",
       "    </tr>\n",
       "  </tbody>\n",
       "</table>\n",
       "</div>"
      ],
      "text/plain": [
       "                   prev             curr      type  march-n\n",
       "8065526   other-twitter     Donald_Trump  external   269423\n",
       "13793075  other-twitter   Bernie_Sanders  external     1397\n",
       "17503934  other-twitter  Hillary_Clinton  external      657"
      ]
     },
     "execution_count": 28,
     "metadata": {},
     "output_type": "execute_result"
    }
   ],
   "source": [
    "twitter_df.sort_values('march-n', ascending=False)"
   ]
  },
  {
   "cell_type": "code",
   "execution_count": 29,
   "metadata": {
    "collapsed": true
   },
   "outputs": [],
   "source": [
    "google_df = pd.DataFrame()\n",
    "\n",
    "for name in politicians_current_list:\n",
    "    google_df = pd.concat([google_df, \n",
    "                      march_df[(march_df['curr'] == name) &\n",
    "                               (march_df['prev'] == \"other-google\")]])"
   ]
  },
  {
   "cell_type": "code",
   "execution_count": 30,
   "metadata": {
    "collapsed": false
   },
   "outputs": [
    {
     "data": {
      "text/html": [
       "<div>\n",
       "<table border=\"1\" class=\"dataframe\">\n",
       "  <thead>\n",
       "    <tr style=\"text-align: right;\">\n",
       "      <th></th>\n",
       "      <th>prev</th>\n",
       "      <th>curr</th>\n",
       "      <th>type</th>\n",
       "      <th>march-n</th>\n",
       "    </tr>\n",
       "  </thead>\n",
       "  <tbody>\n",
       "    <tr>\n",
       "      <th>22853727</th>\n",
       "      <td>other-google</td>\n",
       "      <td>Donald_Trump</td>\n",
       "      <td>external</td>\n",
       "      <td>3599213</td>\n",
       "    </tr>\n",
       "    <tr>\n",
       "      <th>8355536</th>\n",
       "      <td>other-google</td>\n",
       "      <td>Bernie_Sanders</td>\n",
       "      <td>external</td>\n",
       "      <td>1287527</td>\n",
       "    </tr>\n",
       "    <tr>\n",
       "      <th>12074774</th>\n",
       "      <td>other-google</td>\n",
       "      <td>Hillary_Clinton</td>\n",
       "      <td>external</td>\n",
       "      <td>781268</td>\n",
       "    </tr>\n",
       "  </tbody>\n",
       "</table>\n",
       "</div>"
      ],
      "text/plain": [
       "                  prev             curr      type  march-n\n",
       "22853727  other-google     Donald_Trump  external  3599213\n",
       "8355536   other-google   Bernie_Sanders  external  1287527\n",
       "12074774  other-google  Hillary_Clinton  external   781268"
      ]
     },
     "execution_count": 30,
     "metadata": {},
     "output_type": "execute_result"
    }
   ],
   "source": [
    "google_df.sort_values('march-n', ascending=False)"
   ]
  },
  {
   "cell_type": "code",
   "execution_count": 32,
   "metadata": {
    "collapsed": false
   },
   "outputs": [
    {
     "data": {
      "text/html": [
       "\n",
       "<html>\n",
       "  <head>\n",
       "    <script type=\"text/javascript\" src=\"https://www.gstatic.com/charts/loader.js\"></script>\n",
       "    <script type=\"text/javascript\">\n",
       "     google.charts.load('current', {'packages':['sankey', 'bar', 'corechart']});\n",
       "     google.charts.setOnLoadCallback(drawChart);\n",
       "\n",
       "      function drawChart() {\n",
       "        var data = new google.visualization.DataTable();\n",
       "        data.addColumn('string', 'From');\n",
       "        data.addColumn('string', 'To');\n",
       "        data.addColumn('number', 'Weight');\n",
       "\n",
       "        data.addRows([\n",
       "          [ 'google', 'Trump', 3599213 ],\n",
       "          [ 'google', 'Clinton', 781268 ],\n",
       "          [ 'google', 'Sanders', 1287527 ],             \n",
       "          [ 'facebook', 'Trump', 3024676 ],\n",
       "          [ 'facebook', 'Clinton', 1638 ],\n",
       "          [ 'facebook', 'Sanders', 12183 ],\n",
       "          [ 'twitter', 'Trump', 269423 ],\n",
       "          [ 'twitter', 'Clinton', 657 ], \n",
       "          [ 'twitter', 'Sanders', 1397 ],              \n",
       "                \n",
       "        ]);\n",
       "\n",
       "        // Sets chart options.\n",
       "        var options = {\n",
       "          width: 600,\n",
       "        };\n",
       "\n",
       "        // Instantiates and draws our chart, passing in some options.\n",
       "        var chart = new google.visualization.Sankey(document.getElementById('sankey_sm'));\n",
       "        chart.draw(data, options);\n",
       "      }\n",
       "    </script>\n",
       "  </head>\n",
       "  <body>\n",
       "    <div id=\"sankey_sm\" style=\"width: 900px; height: 300px;\"></div>\n",
       "  </body>\n",
       "</html>"
      ],
      "text/plain": [
       "<IPython.core.display.HTML object>"
      ]
     },
     "metadata": {},
     "output_type": "display_data"
    }
   ],
   "source": [
    "%%html\n",
    "\n",
    "<html>\n",
    "  <head>\n",
    "    <script type=\"text/javascript\" src=\"https://www.gstatic.com/charts/loader.js\"></script>\n",
    "    <script type=\"text/javascript\">\n",
    "     google.charts.load('current', {'packages':['sankey', 'bar', 'corechart']});\n",
    "     google.charts.setOnLoadCallback(drawChart);\n",
    "\n",
    "      function drawChart() {\n",
    "        var data = new google.visualization.DataTable();\n",
    "        data.addColumn('string', 'From');\n",
    "        data.addColumn('string', 'To');\n",
    "        data.addColumn('number', 'Weight');\n",
    "\n",
    "        data.addRows([\n",
    "          [ 'google', 'Trump', 3599213 ],\n",
    "          [ 'google', 'Clinton', 781268 ],\n",
    "          [ 'google', 'Sanders', 1287527 ],             \n",
    "          [ 'facebook', 'Trump', 3024676 ],\n",
    "          [ 'facebook', 'Clinton', 1638 ],\n",
    "          [ 'facebook', 'Sanders', 12183 ],\n",
    "          [ 'twitter', 'Trump', 269423 ],\n",
    "          [ 'twitter', 'Clinton', 657 ], \n",
    "          [ 'twitter', 'Sanders', 1397 ],              \n",
    "                \n",
    "        ]);\n",
    "\n",
    "        // Sets chart options.\n",
    "        var options = {\n",
    "          width: 600,\n",
    "        };\n",
    "\n",
    "        // Instantiates and draws our chart, passing in some options.\n",
    "        var chart = new google.visualization.Sankey(document.getElementById('sankey_sm'));\n",
    "        chart.draw(data, options);\n",
    "      }\n",
    "    </script>\n",
    "  </head>\n",
    "  <body>\n",
    "    <div id=\"sankey_sm\" style=\"width: 900px; height: 300px;\"></div>\n",
    "  </body>\n",
    "</html>"
   ]
  },
  {
   "cell_type": "markdown",
   "metadata": {},
   "source": [
    "![alt text](social_media_sankey.png \"Social Media Traffic\")"
   ]
  },
  {
   "cell_type": "markdown",
   "metadata": {},
   "source": [
    "# April 2016 Sankey Diagram"
   ]
  },
  {
   "cell_type": "code",
   "execution_count": 33,
   "metadata": {
    "collapsed": false
   },
   "outputs": [
    {
     "data": {
      "text/html": [
       "<div>\n",
       "<table border=\"1\" class=\"dataframe\">\n",
       "  <thead>\n",
       "    <tr style=\"text-align: right;\">\n",
       "      <th></th>\n",
       "      <th>prev</th>\n",
       "      <th>curr</th>\n",
       "      <th>type</th>\n",
       "      <th>april-n</th>\n",
       "    </tr>\n",
       "  </thead>\n",
       "  <tbody>\n",
       "    <tr>\n",
       "      <th>18707011</th>\n",
       "      <td>United_States_presidential_election,_2016</td>\n",
       "      <td>Democratic_Party_presidential_primaries,_2016</td>\n",
       "      <td>link</td>\n",
       "      <td>44666</td>\n",
       "    </tr>\n",
       "    <tr>\n",
       "      <th>17530111</th>\n",
       "      <td>United_States_presidential_election,_2016</td>\n",
       "      <td>Republican_Party_presidential_primaries,_2016</td>\n",
       "      <td>link</td>\n",
       "      <td>42770</td>\n",
       "    </tr>\n",
       "    <tr>\n",
       "      <th>5464857</th>\n",
       "      <td>United_States_presidential_election,_2016</td>\n",
       "      <td>Nationwide_opinion_polling_for_the_United_Stat...</td>\n",
       "      <td>link</td>\n",
       "      <td>13170</td>\n",
       "    </tr>\n",
       "    <tr>\n",
       "      <th>166459</th>\n",
       "      <td>United_States_presidential_election,_2016</td>\n",
       "      <td>United_States_presidential_election,_2012</td>\n",
       "      <td>link</td>\n",
       "      <td>11494</td>\n",
       "    </tr>\n",
       "    <tr>\n",
       "      <th>18707015</th>\n",
       "      <td>United_States_presidential_election,_2016</td>\n",
       "      <td>Statewide_opinion_polling_for_the_Democratic_P...</td>\n",
       "      <td>link</td>\n",
       "      <td>10110</td>\n",
       "    </tr>\n",
       "  </tbody>\n",
       "</table>\n",
       "</div>"
      ],
      "text/plain": [
       "                                               prev  \\\n",
       "18707011  United_States_presidential_election,_2016   \n",
       "17530111  United_States_presidential_election,_2016   \n",
       "5464857   United_States_presidential_election,_2016   \n",
       "166459    United_States_presidential_election,_2016   \n",
       "18707015  United_States_presidential_election,_2016   \n",
       "\n",
       "                                                       curr  type  april-n  \n",
       "18707011      Democratic_Party_presidential_primaries,_2016  link    44666  \n",
       "17530111      Republican_Party_presidential_primaries,_2016  link    42770  \n",
       "5464857   Nationwide_opinion_polling_for_the_United_Stat...  link    13170  \n",
       "166459            United_States_presidential_election,_2012  link    11494  \n",
       "18707015  Statewide_opinion_polling_for_the_Democratic_P...  link    10110  "
      ]
     },
     "execution_count": 33,
     "metadata": {},
     "output_type": "execute_result"
    }
   ],
   "source": [
    "april_df[april_df.prev == \"United_States_presidential_election,_2016\"].sort_values('april-n', ascending=False)[:5]"
   ]
  },
  {
   "cell_type": "code",
   "execution_count": 34,
   "metadata": {
    "collapsed": false
   },
   "outputs": [
    {
     "data": {
      "text/html": [
       "<div>\n",
       "<table border=\"1\" class=\"dataframe\">\n",
       "  <thead>\n",
       "    <tr style=\"text-align: right;\">\n",
       "      <th></th>\n",
       "      <th>prev</th>\n",
       "      <th>curr</th>\n",
       "      <th>type</th>\n",
       "      <th>april-n</th>\n",
       "    </tr>\n",
       "  </thead>\n",
       "  <tbody>\n",
       "    <tr>\n",
       "      <th>12402612</th>\n",
       "      <td>Democratic_Party_presidential_primaries,_2016</td>\n",
       "      <td>Republican_Party_presidential_primaries,_2016</td>\n",
       "      <td>link</td>\n",
       "      <td>44122</td>\n",
       "    </tr>\n",
       "    <tr>\n",
       "      <th>10930616</th>\n",
       "      <td>Democratic_Party_presidential_primaries,_2016</td>\n",
       "      <td>New_York_Democratic_primary,_2016</td>\n",
       "      <td>link</td>\n",
       "      <td>17960</td>\n",
       "    </tr>\n",
       "    <tr>\n",
       "      <th>12402608</th>\n",
       "      <td>Democratic_Party_presidential_primaries,_2016</td>\n",
       "      <td>Democratic_Party_presidential_primaries,_2012</td>\n",
       "      <td>link</td>\n",
       "      <td>16881</td>\n",
       "    </tr>\n",
       "    <tr>\n",
       "      <th>7105590</th>\n",
       "      <td>Democratic_Party_presidential_primaries,_2016</td>\n",
       "      <td>Statewide_opinion_polling_for_the_Democratic_P...</td>\n",
       "      <td>link</td>\n",
       "      <td>13655</td>\n",
       "    </tr>\n",
       "    <tr>\n",
       "      <th>10930617</th>\n",
       "      <td>Democratic_Party_presidential_primaries,_2016</td>\n",
       "      <td>Results_of_the_Democratic_Party_presidential_p...</td>\n",
       "      <td>link</td>\n",
       "      <td>12018</td>\n",
       "    </tr>\n",
       "    <tr>\n",
       "      <th>9165353</th>\n",
       "      <td>Democratic_Party_presidential_primaries,_2016</td>\n",
       "      <td>List_of_Democratic_Party_superdelegates,_2016</td>\n",
       "      <td>link</td>\n",
       "      <td>10156</td>\n",
       "    </tr>\n",
       "    <tr>\n",
       "      <th>17696702</th>\n",
       "      <td>Democratic_Party_presidential_primaries,_2016</td>\n",
       "      <td>Bernie_Sanders</td>\n",
       "      <td>link</td>\n",
       "      <td>9765</td>\n",
       "    </tr>\n",
       "    <tr>\n",
       "      <th>7399708</th>\n",
       "      <td>Democratic_Party_presidential_primaries,_2016</td>\n",
       "      <td>Wyoming_Democratic_caucuses,_2016</td>\n",
       "      <td>link</td>\n",
       "      <td>9488</td>\n",
       "    </tr>\n",
       "    <tr>\n",
       "      <th>15933223</th>\n",
       "      <td>Democratic_Party_presidential_primaries,_2016</td>\n",
       "      <td>Wisconsin_Democratic_primary,_2016</td>\n",
       "      <td>link</td>\n",
       "      <td>7729</td>\n",
       "    </tr>\n",
       "    <tr>\n",
       "      <th>8577269</th>\n",
       "      <td>Democratic_Party_presidential_primaries,_2016</td>\n",
       "      <td>Hillary_Clinton</td>\n",
       "      <td>link</td>\n",
       "      <td>6693</td>\n",
       "    </tr>\n",
       "  </tbody>\n",
       "</table>\n",
       "</div>"
      ],
      "text/plain": [
       "                                                   prev  \\\n",
       "12402612  Democratic_Party_presidential_primaries,_2016   \n",
       "10930616  Democratic_Party_presidential_primaries,_2016   \n",
       "12402608  Democratic_Party_presidential_primaries,_2016   \n",
       "7105590   Democratic_Party_presidential_primaries,_2016   \n",
       "10930617  Democratic_Party_presidential_primaries,_2016   \n",
       "9165353   Democratic_Party_presidential_primaries,_2016   \n",
       "17696702  Democratic_Party_presidential_primaries,_2016   \n",
       "7399708   Democratic_Party_presidential_primaries,_2016   \n",
       "15933223  Democratic_Party_presidential_primaries,_2016   \n",
       "8577269   Democratic_Party_presidential_primaries,_2016   \n",
       "\n",
       "                                                       curr  type  april-n  \n",
       "12402612      Republican_Party_presidential_primaries,_2016  link    44122  \n",
       "10930616                  New_York_Democratic_primary,_2016  link    17960  \n",
       "12402608      Democratic_Party_presidential_primaries,_2012  link    16881  \n",
       "7105590   Statewide_opinion_polling_for_the_Democratic_P...  link    13655  \n",
       "10930617  Results_of_the_Democratic_Party_presidential_p...  link    12018  \n",
       "9165353       List_of_Democratic_Party_superdelegates,_2016  link    10156  \n",
       "17696702                                     Bernie_Sanders  link     9765  \n",
       "7399708                   Wyoming_Democratic_caucuses,_2016  link     9488  \n",
       "15933223                 Wisconsin_Democratic_primary,_2016  link     7729  \n",
       "8577269                                     Hillary_Clinton  link     6693  "
      ]
     },
     "execution_count": 34,
     "metadata": {},
     "output_type": "execute_result"
    }
   ],
   "source": [
    "april_df[april_df.prev == \"Democratic_Party_presidential_primaries,_2016\"].sort_values('april-n', ascending=False)[:10]"
   ]
  },
  {
   "cell_type": "code",
   "execution_count": 35,
   "metadata": {
    "collapsed": false
   },
   "outputs": [
    {
     "data": {
      "text/html": [
       "<div>\n",
       "<table border=\"1\" class=\"dataframe\">\n",
       "  <thead>\n",
       "    <tr style=\"text-align: right;\">\n",
       "      <th></th>\n",
       "      <th>prev</th>\n",
       "      <th>curr</th>\n",
       "      <th>type</th>\n",
       "      <th>april-n</th>\n",
       "    </tr>\n",
       "  </thead>\n",
       "  <tbody>\n",
       "    <tr>\n",
       "      <th>9554175</th>\n",
       "      <td>Republican_Party_presidential_primaries,_2016</td>\n",
       "      <td>Democratic_Party_presidential_primaries,_2016</td>\n",
       "      <td>link</td>\n",
       "      <td>40097</td>\n",
       "    </tr>\n",
       "    <tr>\n",
       "      <th>21027236</th>\n",
       "      <td>Republican_Party_presidential_primaries,_2016</td>\n",
       "      <td>Results_of_the_Republican_Party_presidential_p...</td>\n",
       "      <td>link</td>\n",
       "      <td>18768</td>\n",
       "    </tr>\n",
       "    <tr>\n",
       "      <th>7200656</th>\n",
       "      <td>Republican_Party_presidential_primaries,_2016</td>\n",
       "      <td>Republican_Party_presidential_primaries,_2012</td>\n",
       "      <td>link</td>\n",
       "      <td>13842</td>\n",
       "    </tr>\n",
       "    <tr>\n",
       "      <th>1900106</th>\n",
       "      <td>Republican_Party_presidential_primaries,_2016</td>\n",
       "      <td>Statewide_opinion_polling_for_the_Republican_P...</td>\n",
       "      <td>link</td>\n",
       "      <td>13596</td>\n",
       "    </tr>\n",
       "    <tr>\n",
       "      <th>13972021</th>\n",
       "      <td>Republican_Party_presidential_primaries,_2016</td>\n",
       "      <td>Donald_Trump</td>\n",
       "      <td>link</td>\n",
       "      <td>8891</td>\n",
       "    </tr>\n",
       "  </tbody>\n",
       "</table>\n",
       "</div>"
      ],
      "text/plain": [
       "                                                   prev  \\\n",
       "9554175   Republican_Party_presidential_primaries,_2016   \n",
       "21027236  Republican_Party_presidential_primaries,_2016   \n",
       "7200656   Republican_Party_presidential_primaries,_2016   \n",
       "1900106   Republican_Party_presidential_primaries,_2016   \n",
       "13972021  Republican_Party_presidential_primaries,_2016   \n",
       "\n",
       "                                                       curr  type  april-n  \n",
       "9554175       Democratic_Party_presidential_primaries,_2016  link    40097  \n",
       "21027236  Results_of_the_Republican_Party_presidential_p...  link    18768  \n",
       "7200656       Republican_Party_presidential_primaries,_2012  link    13842  \n",
       "1900106   Statewide_opinion_polling_for_the_Republican_P...  link    13596  \n",
       "13972021                                       Donald_Trump  link     8891  "
      ]
     },
     "execution_count": 35,
     "metadata": {},
     "output_type": "execute_result"
    }
   ],
   "source": [
    "april_df[april_df.prev == \"Republican_Party_presidential_primaries,_2016\"].sort_values('april-n', ascending=False)[:5]"
   ]
  },
  {
   "cell_type": "code",
   "execution_count": 36,
   "metadata": {
    "collapsed": false
   },
   "outputs": [
    {
     "data": {
      "text/html": [
       "<div>\n",
       "<table border=\"1\" class=\"dataframe\">\n",
       "  <thead>\n",
       "    <tr style=\"text-align: right;\">\n",
       "      <th></th>\n",
       "      <th>prev</th>\n",
       "      <th>curr</th>\n",
       "      <th>type</th>\n",
       "      <th>april-n</th>\n",
       "    </tr>\n",
       "  </thead>\n",
       "  <tbody>\n",
       "    <tr>\n",
       "      <th>20345890</th>\n",
       "      <td>Donald_Trump</td>\n",
       "      <td>Melania_Trump</td>\n",
       "      <td>link</td>\n",
       "      <td>101757</td>\n",
       "    </tr>\n",
       "    <tr>\n",
       "      <th>3868275</th>\n",
       "      <td>Donald_Trump</td>\n",
       "      <td>Marla_Maples</td>\n",
       "      <td>link</td>\n",
       "      <td>85562</td>\n",
       "    </tr>\n",
       "    <tr>\n",
       "      <th>6224284</th>\n",
       "      <td>Donald_Trump</td>\n",
       "      <td>Ivana_Trump</td>\n",
       "      <td>link</td>\n",
       "      <td>84558</td>\n",
       "    </tr>\n",
       "    <tr>\n",
       "      <th>5340065</th>\n",
       "      <td>Donald_Trump</td>\n",
       "      <td>Ivanka_Trump</td>\n",
       "      <td>link</td>\n",
       "      <td>63416</td>\n",
       "    </tr>\n",
       "    <tr>\n",
       "      <th>9755952</th>\n",
       "      <td>Donald_Trump</td>\n",
       "      <td>Fred_Trump</td>\n",
       "      <td>link</td>\n",
       "      <td>60105</td>\n",
       "    </tr>\n",
       "  </tbody>\n",
       "</table>\n",
       "</div>"
      ],
      "text/plain": [
       "                  prev           curr  type  april-n\n",
       "20345890  Donald_Trump  Melania_Trump  link   101757\n",
       "3868275   Donald_Trump   Marla_Maples  link    85562\n",
       "6224284   Donald_Trump    Ivana_Trump  link    84558\n",
       "5340065   Donald_Trump   Ivanka_Trump  link    63416\n",
       "9755952   Donald_Trump     Fred_Trump  link    60105"
      ]
     },
     "execution_count": 36,
     "metadata": {},
     "output_type": "execute_result"
    }
   ],
   "source": [
    "april_df[april_df.prev == \"Donald_Trump\"].sort_values('april-n', ascending=False)[:5]"
   ]
  },
  {
   "cell_type": "code",
   "execution_count": 37,
   "metadata": {
    "collapsed": false
   },
   "outputs": [
    {
     "data": {
      "text/html": [
       "<div>\n",
       "<table border=\"1\" class=\"dataframe\">\n",
       "  <thead>\n",
       "    <tr style=\"text-align: right;\">\n",
       "      <th></th>\n",
       "      <th>prev</th>\n",
       "      <th>curr</th>\n",
       "      <th>type</th>\n",
       "      <th>april-n</th>\n",
       "    </tr>\n",
       "  </thead>\n",
       "  <tbody>\n",
       "    <tr>\n",
       "      <th>5949503</th>\n",
       "      <td>Hillary_Clinton</td>\n",
       "      <td>Bill_Clinton</td>\n",
       "      <td>link</td>\n",
       "      <td>30134</td>\n",
       "    </tr>\n",
       "    <tr>\n",
       "      <th>5360928</th>\n",
       "      <td>Hillary_Clinton</td>\n",
       "      <td>Chelsea_Clinton</td>\n",
       "      <td>link</td>\n",
       "      <td>19306</td>\n",
       "    </tr>\n",
       "    <tr>\n",
       "      <th>4478461</th>\n",
       "      <td>Hillary_Clinton</td>\n",
       "      <td>Wellesley_College</td>\n",
       "      <td>link</td>\n",
       "      <td>10881</td>\n",
       "    </tr>\n",
       "    <tr>\n",
       "      <th>18014222</th>\n",
       "      <td>Hillary_Clinton</td>\n",
       "      <td>Condoleezza_Rice</td>\n",
       "      <td>link</td>\n",
       "      <td>5874</td>\n",
       "    </tr>\n",
       "    <tr>\n",
       "      <th>18602866</th>\n",
       "      <td>Hillary_Clinton</td>\n",
       "      <td>Democratic_Party_presidential_primaries,_2016</td>\n",
       "      <td>link</td>\n",
       "      <td>5579</td>\n",
       "    </tr>\n",
       "  </tbody>\n",
       "</table>\n",
       "</div>"
      ],
      "text/plain": [
       "                     prev                                           curr  \\\n",
       "5949503   Hillary_Clinton                                   Bill_Clinton   \n",
       "5360928   Hillary_Clinton                                Chelsea_Clinton   \n",
       "4478461   Hillary_Clinton                              Wellesley_College   \n",
       "18014222  Hillary_Clinton                               Condoleezza_Rice   \n",
       "18602866  Hillary_Clinton  Democratic_Party_presidential_primaries,_2016   \n",
       "\n",
       "          type  april-n  \n",
       "5949503   link    30134  \n",
       "5360928   link    19306  \n",
       "4478461   link    10881  \n",
       "18014222  link     5874  \n",
       "18602866  link     5579  "
      ]
     },
     "execution_count": 37,
     "metadata": {},
     "output_type": "execute_result"
    }
   ],
   "source": [
    "april_df[april_df.prev == \"Hillary_Clinton\"].sort_values('april-n', ascending=False)[:5]"
   ]
  },
  {
   "cell_type": "code",
   "execution_count": 38,
   "metadata": {
    "collapsed": false
   },
   "outputs": [
    {
     "data": {
      "text/html": [
       "<div>\n",
       "<table border=\"1\" class=\"dataframe\">\n",
       "  <thead>\n",
       "    <tr style=\"text-align: right;\">\n",
       "      <th></th>\n",
       "      <th>prev</th>\n",
       "      <th>curr</th>\n",
       "      <th>type</th>\n",
       "      <th>april-n</th>\n",
       "    </tr>\n",
       "  </thead>\n",
       "  <tbody>\n",
       "    <tr>\n",
       "      <th>21206494</th>\n",
       "      <td>Bernie_Sanders</td>\n",
       "      <td>Jane_O'Meara_Sanders</td>\n",
       "      <td>link</td>\n",
       "      <td>52440</td>\n",
       "    </tr>\n",
       "    <tr>\n",
       "      <th>8262552</th>\n",
       "      <td>Bernie_Sanders</td>\n",
       "      <td>Bernie_Sanders_presidential_campaign,_2016</td>\n",
       "      <td>link</td>\n",
       "      <td>9941</td>\n",
       "    </tr>\n",
       "    <tr>\n",
       "      <th>2080278</th>\n",
       "      <td>Bernie_Sanders</td>\n",
       "      <td>Larry_Sanders_(politician)</td>\n",
       "      <td>link</td>\n",
       "      <td>7676</td>\n",
       "    </tr>\n",
       "    <tr>\n",
       "      <th>6496544</th>\n",
       "      <td>Bernie_Sanders</td>\n",
       "      <td>Liberty_Union_Party</td>\n",
       "      <td>link</td>\n",
       "      <td>6263</td>\n",
       "    </tr>\n",
       "    <tr>\n",
       "      <th>901795</th>\n",
       "      <td>Bernie_Sanders</td>\n",
       "      <td>Hillary_Clinton</td>\n",
       "      <td>link</td>\n",
       "      <td>6024</td>\n",
       "    </tr>\n",
       "  </tbody>\n",
       "</table>\n",
       "</div>"
      ],
      "text/plain": [
       "                    prev                                        curr  type  \\\n",
       "21206494  Bernie_Sanders                        Jane_O'Meara_Sanders  link   \n",
       "8262552   Bernie_Sanders  Bernie_Sanders_presidential_campaign,_2016  link   \n",
       "2080278   Bernie_Sanders                  Larry_Sanders_(politician)  link   \n",
       "6496544   Bernie_Sanders                         Liberty_Union_Party  link   \n",
       "901795    Bernie_Sanders                             Hillary_Clinton  link   \n",
       "\n",
       "          april-n  \n",
       "21206494    52440  \n",
       "8262552      9941  \n",
       "2080278      7676  \n",
       "6496544      6263  \n",
       "901795       6024  "
      ]
     },
     "execution_count": 38,
     "metadata": {},
     "output_type": "execute_result"
    }
   ],
   "source": [
    "april_df[april_df.prev == \"Bernie_Sanders\"].sort_values('april-n', ascending=False)[:5]"
   ]
  },
  {
   "cell_type": "code",
   "execution_count": null,
   "metadata": {
    "collapsed": true
   },
   "outputs": [],
   "source": [
    "\n",
    "\"\"\"\n",
    "Javascript error adding output!\n",
    "Error: google.charts.load() cannot be called more than once.\n",
    "See your browser Javascript console for more details.\n",
    "\n",
    "google.charts.load('current', {'packages':['sankey']}); \"\"\"\n",
    "\n"
   ]
  },
  {
   "cell_type": "code",
   "execution_count": 39,
   "metadata": {
    "collapsed": false
   },
   "outputs": [
    {
     "data": {
      "text/html": [
       "\n",
       "<html>\n",
       "  <head>\n",
       "    <script type=\"text/javascript\" src=\"https://www.gstatic.com/charts/loader.js\"></script>\n",
       "    <script type=\"text/javascript\">\n",
       "      google.charts.setOnLoadCallback(drawChart);\n",
       "\n",
       "      function drawChart() {\n",
       "        var data = new google.visualization.DataTable();\n",
       "        data.addColumn('string', 'From');\n",
       "        data.addColumn('string', 'To');\n",
       "        data.addColumn('number', 'Weight');\n",
       "\n",
       "        data.addRows([\n",
       "          [ 'US presidential election, 2016', 'Trump', 8232 ],\n",
       "          [ 'US presidential election, 2016', 'Clinton', 5326 ],\n",
       "          [ 'US presidential election, 2016', 'Sanders', 6947 ],             \n",
       "          [ 'Democratic Party presidential primaries, 2016', 'Sanders', 4338 ],\n",
       "          [ 'Democratic Party presidential primaries, 2016', 'Clinton', 6693 ],\n",
       "          [ 'Republican Party presidential primaries, 2016', 'Trump', 8891 ],\n",
       "          [ 'Trump', 'Melania Trump', 101571 ],\n",
       "          [ 'Trump', 'Marla Maples', 85562 ], \n",
       "          [ 'Clinton', 'Bill Clinton', 30134 ],\n",
       "          [ 'Clinton', 'Chelsea Clinton', 19306 ],    \n",
       "          [ 'Sanders', \"Jane O'Meara Sanders\", 52440 ],\n",
       "          [ 'Sanders', \"Bernie Sanders presidential campaign, 2016\", 9941 ],     \n",
       "                \n",
       "                \n",
       "        ]);\n",
       "\n",
       "        // Sets chart options.\n",
       "        var options = {\n",
       "          width: 600,\n",
       "        };\n",
       "\n",
       "        // Instantiates and draws our chart, passing in some options.\n",
       "        var chart = new google.visualization.Sankey(document.getElementById('sankey'));\n",
       "        chart.draw(data, options);\n",
       "      }\n",
       "    </script>\n",
       "  </head>\n",
       "  <body>\n",
       "    <div id=\"sankey\" style=\"width: 900px; height: 300px;\"></div>\n",
       "  </body>\n",
       "</html>"
      ],
      "text/plain": [
       "<IPython.core.display.HTML object>"
      ]
     },
     "metadata": {},
     "output_type": "display_data"
    }
   ],
   "source": [
    "%%html\n",
    "\n",
    "<html>\n",
    "  <head>\n",
    "    <script type=\"text/javascript\" src=\"https://www.gstatic.com/charts/loader.js\"></script>\n",
    "    <script type=\"text/javascript\">\n",
    "      google.charts.setOnLoadCallback(drawChart);\n",
    "\n",
    "      function drawChart() {\n",
    "        var data = new google.visualization.DataTable();\n",
    "        data.addColumn('string', 'From');\n",
    "        data.addColumn('string', 'To');\n",
    "        data.addColumn('number', 'Weight');\n",
    "\n",
    "        data.addRows([\n",
    "          [ 'US presidential election, 2016', 'Trump', 8232 ],\n",
    "          [ 'US presidential election, 2016', 'Clinton', 5326 ],\n",
    "          [ 'US presidential election, 2016', 'Sanders', 6947 ],             \n",
    "          [ 'Democratic Party presidential primaries, 2016', 'Sanders', 4338 ],\n",
    "          [ 'Democratic Party presidential primaries, 2016', 'Clinton', 6693 ],\n",
    "          [ 'Republican Party presidential primaries, 2016', 'Trump', 8891 ],\n",
    "          [ 'Trump', 'Melania Trump', 101571 ],\n",
    "          [ 'Trump', 'Marla Maples', 85562 ], \n",
    "          [ 'Clinton', 'Bill Clinton', 30134 ],\n",
    "          [ 'Clinton', 'Chelsea Clinton', 19306 ],    \n",
    "          [ 'Sanders', \"Jane O'Meara Sanders\", 52440 ],\n",
    "          [ 'Sanders', \"Bernie Sanders presidential campaign, 2016\", 9941 ],     \n",
    "                \n",
    "                \n",
    "        ]);\n",
    "\n",
    "        // Sets chart options.\n",
    "        var options = {\n",
    "          width: 600,\n",
    "        };\n",
    "\n",
    "        // Instantiates and draws our chart, passing in some options.\n",
    "        var chart = new google.visualization.Sankey(document.getElementById('sankey'));\n",
    "        chart.draw(data, options);\n",
    "      }\n",
    "    </script>\n",
    "  </head>\n",
    "  <body>\n",
    "    <div id=\"sankey\" style=\"width: 900px; height: 300px;\"></div>\n",
    "  </body>\n",
    "</html>"
   ]
  },
  {
   "cell_type": "markdown",
   "metadata": {
    "collapsed": true
   },
   "source": [
    "![alt text](candidate_outflow_sankey.png \"Candidate Sankey Diagram\")"
   ]
  },
  {
   "cell_type": "markdown",
   "metadata": {},
   "source": [
    "### Who are the VPs again?"
   ]
  },
  {
   "cell_type": "code",
   "execution_count": 40,
   "metadata": {
    "collapsed": false
   },
   "outputs": [
    {
     "data": {
      "text/html": [
       "<div>\n",
       "<table border=\"1\" class=\"dataframe\">\n",
       "  <thead>\n",
       "    <tr style=\"text-align: right;\">\n",
       "      <th></th>\n",
       "      <th>april-n</th>\n",
       "    </tr>\n",
       "    <tr>\n",
       "      <th>curr</th>\n",
       "      <th></th>\n",
       "    </tr>\n",
       "  </thead>\n",
       "  <tbody>\n",
       "    <tr>\n",
       "      <th>Tim_Kaine</th>\n",
       "      <td>27472</td>\n",
       "    </tr>\n",
       "    <tr>\n",
       "      <th>Mike_Pence</th>\n",
       "      <td>23409</td>\n",
       "    </tr>\n",
       "  </tbody>\n",
       "</table>\n",
       "</div>"
      ],
      "text/plain": [
       "            april-n\n",
       "curr               \n",
       "Tim_Kaine     27472\n",
       "Mike_Pence    23409"
      ]
     },
     "execution_count": 40,
     "metadata": {},
     "output_type": "execute_result"
    }
   ],
   "source": [
    "vp_list = ['Tim_Kaine', 'Mike_Pence']\n",
    "vp_df = pd.DataFrame()\n",
    "\n",
    "for name in vp_list:\n",
    "    vp_df = pd.concat([vp_df, april_df[april_df.curr == name].groupby('curr').sum()])\n",
    "    \n",
    "vp_df.sort_values('april-n', ascending=False)"
   ]
  },
  {
   "cell_type": "code",
   "execution_count": 41,
   "metadata": {
    "collapsed": true
   },
   "outputs": [],
   "source": [
    "newdf = april_df[(april_df['april-n']>= 50881)]"
   ]
  },
  {
   "cell_type": "code",
   "execution_count": 42,
   "metadata": {
    "collapsed": false
   },
   "outputs": [
    {
     "data": {
      "text/html": [
       "<div>\n",
       "<table border=\"1\" class=\"dataframe\">\n",
       "  <thead>\n",
       "    <tr style=\"text-align: right;\">\n",
       "      <th></th>\n",
       "      <th>prev</th>\n",
       "      <th>curr</th>\n",
       "      <th>type</th>\n",
       "      <th>april-n</th>\n",
       "    </tr>\n",
       "  </thead>\n",
       "  <tbody>\n",
       "    <tr>\n",
       "      <th>15491808</th>\n",
       "      <td>other-empty</td>\n",
       "      <td>Charlie_Hunnam</td>\n",
       "      <td>external</td>\n",
       "      <td>50881</td>\n",
       "    </tr>\n",
       "    <tr>\n",
       "      <th>5435235</th>\n",
       "      <td>Rogue_One</td>\n",
       "      <td>Riz_Ahmed</td>\n",
       "      <td>link</td>\n",
       "      <td>50881</td>\n",
       "    </tr>\n",
       "    <tr>\n",
       "      <th>21162643</th>\n",
       "      <td>other-search</td>\n",
       "      <td>International_Workers'_Day</td>\n",
       "      <td>external</td>\n",
       "      <td>50883</td>\n",
       "    </tr>\n",
       "    <tr>\n",
       "      <th>4681941</th>\n",
       "      <td>other-search</td>\n",
       "      <td>Formation_(song)</td>\n",
       "      <td>external</td>\n",
       "      <td>50884</td>\n",
       "    </tr>\n",
       "    <tr>\n",
       "      <th>16185928</th>\n",
       "      <td>other-search</td>\n",
       "      <td>William_Wallace</td>\n",
       "      <td>external</td>\n",
       "      <td>50890</td>\n",
       "    </tr>\n",
       "  </tbody>\n",
       "</table>\n",
       "</div>"
      ],
      "text/plain": [
       "                  prev                        curr      type  april-n\n",
       "15491808   other-empty              Charlie_Hunnam  external    50881\n",
       "5435235      Rogue_One                   Riz_Ahmed      link    50881\n",
       "21162643  other-search  International_Workers'_Day  external    50883\n",
       "4681941   other-search            Formation_(song)  external    50884\n",
       "16185928  other-search             William_Wallace  external    50890"
      ]
     },
     "execution_count": 42,
     "metadata": {},
     "output_type": "execute_result"
    }
   ],
   "source": [
    "newdf.sort_values('april-n', ascending=True).head()"
   ]
  },
  {
   "cell_type": "code",
   "execution_count": null,
   "metadata": {
    "collapsed": true
   },
   "outputs": [],
   "source": []
  }
 ],
 "metadata": {
  "kernelspec": {
   "display_name": "Python 2",
   "language": "python",
   "name": "python2"
  },
  "language_info": {
   "codemirror_mode": {
    "name": "ipython",
    "version": 2
   },
   "file_extension": ".py",
   "mimetype": "text/x-python",
   "name": "python",
   "nbconvert_exporter": "python",
   "pygments_lexer": "ipython2",
   "version": "2.7.11"
  }
 },
 "nbformat": 4,
 "nbformat_minor": 0
}
