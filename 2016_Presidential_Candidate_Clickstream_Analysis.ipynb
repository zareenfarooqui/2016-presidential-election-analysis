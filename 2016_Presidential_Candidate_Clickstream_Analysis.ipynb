{
 "cells": [
  {
   "cell_type": "markdown",
   "metadata": {},
   "source": [
    "#### Create DataFrames for February, March, and April 2016 Wikipedia Clicksteam data"
   ]
  },
  {
   "cell_type": "code",
   "execution_count": 6,
   "metadata": {
    "collapsed": true
   },
   "outputs": [],
   "source": [
    "import pandas as pd"
   ]
  },
  {
   "cell_type": "code",
   "execution_count": 7,
   "metadata": {
    "collapsed": false
   },
   "outputs": [],
   "source": [
    "feb_df = pd.read_csv(\"/Users/ZareenFarooqui/Dropbox/Programming/2016_02_en_clickstream.tsv\", sep='\\t', header=0)"
   ]
  },
  {
   "cell_type": "code",
   "execution_count": 8,
   "metadata": {
    "collapsed": true
   },
   "outputs": [],
   "source": [
    "march_df = pd.read_csv(\"/Users/ZareenFarooqui/Dropbox/Programming/2016_03_clickstream.tsv\", sep='\\t', header=0)"
   ]
  },
  {
   "cell_type": "code",
   "execution_count": 9,
   "metadata": {
    "collapsed": true
   },
   "outputs": [],
   "source": [
    "april_df = pd.read_csv(\"/Users/ZareenFarooqui/Dropbox/Programming/2016_04_en_clickstream.tsv\", sep='\\t', header=0)"
   ]
  },
  {
   "cell_type": "code",
   "execution_count": 13,
   "metadata": {
    "collapsed": false
   },
   "outputs": [
    {
     "data": {
      "text/html": [
       "<div>\n",
       "<table border=\"1\" class=\"dataframe\">\n",
       "  <thead>\n",
       "    <tr style=\"text-align: right;\">\n",
       "      <th></th>\n",
       "      <th>prev</th>\n",
       "      <th>curr</th>\n",
       "      <th>type</th>\n",
       "      <th>n</th>\n",
       "    </tr>\n",
       "  </thead>\n",
       "  <tbody>\n",
       "    <tr>\n",
       "      <th>0</th>\n",
       "      <td>Wild_Bill_Hickok</td>\n",
       "      <td>Deadwood,_South_Dakota</td>\n",
       "      <td>link</td>\n",
       "      <td>182</td>\n",
       "    </tr>\n",
       "    <tr>\n",
       "      <th>1</th>\n",
       "      <td>$100</td>\n",
       "      <td>United_States_dollar</td>\n",
       "      <td>link</td>\n",
       "      <td>18</td>\n",
       "    </tr>\n",
       "    <tr>\n",
       "      <th>2</th>\n",
       "      <td>(Ghost)_Riders_in_the_Sky:_A_Cowboy_Legend</td>\n",
       "      <td>Dezperadoz</td>\n",
       "      <td>link</td>\n",
       "      <td>11</td>\n",
       "    </tr>\n",
       "    <tr>\n",
       "      <th>3</th>\n",
       "      <td>(Ghost)_Riders_in_the_Sky:_A_Cowboy_Legend</td>\n",
       "      <td>Stan_Jones_(songwriter)</td>\n",
       "      <td>link</td>\n",
       "      <td>517</td>\n",
       "    </tr>\n",
       "    <tr>\n",
       "      <th>4</th>\n",
       "      <td>(Hey_You)_The_Rock_Steady_Crew</td>\n",
       "      <td>Rock_Steady_Crew</td>\n",
       "      <td>link</td>\n",
       "      <td>106</td>\n",
       "    </tr>\n",
       "  </tbody>\n",
       "</table>\n",
       "</div>"
      ],
      "text/plain": [
       "                                         prev                     curr  type  \\\n",
       "0                            Wild_Bill_Hickok   Deadwood,_South_Dakota  link   \n",
       "1                                        $100     United_States_dollar  link   \n",
       "2  (Ghost)_Riders_in_the_Sky:_A_Cowboy_Legend               Dezperadoz  link   \n",
       "3  (Ghost)_Riders_in_the_Sky:_A_Cowboy_Legend  Stan_Jones_(songwriter)  link   \n",
       "4              (Hey_You)_The_Rock_Steady_Crew         Rock_Steady_Crew  link   \n",
       "\n",
       "     n  \n",
       "0  182  \n",
       "1   18  \n",
       "2   11  \n",
       "3  517  \n",
       "4  106  "
      ]
     },
     "execution_count": 13,
     "metadata": {},
     "output_type": "execute_result"
    }
   ],
   "source": [
    "feb_df.head()"
   ]
  },
  {
   "cell_type": "code",
   "execution_count": 14,
   "metadata": {
    "collapsed": true
   },
   "outputs": [],
   "source": [
    "feb_df.rename(columns = {'n':'feb-n'}, inplace = True)"
   ]
  },
  {
   "cell_type": "code",
   "execution_count": 16,
   "metadata": {
    "collapsed": true
   },
   "outputs": [],
   "source": [
    "march_df.rename(columns = {'n':'march-n'}, inplace = True)"
   ]
  },
  {
   "cell_type": "code",
   "execution_count": 17,
   "metadata": {
    "collapsed": true
   },
   "outputs": [],
   "source": [
    "april_df.rename(columns = {'n':'april-n'}, inplace = True)"
   ]
  },
  {
   "cell_type": "code",
   "execution_count": 18,
   "metadata": {
    "collapsed": false
   },
   "outputs": [
    {
     "data": {
      "text/html": [
       "<div>\n",
       "<table border=\"1\" class=\"dataframe\">\n",
       "  <thead>\n",
       "    <tr style=\"text-align: right;\">\n",
       "      <th></th>\n",
       "      <th>feb-n</th>\n",
       "    </tr>\n",
       "    <tr>\n",
       "      <th>curr</th>\n",
       "      <th></th>\n",
       "    </tr>\n",
       "  </thead>\n",
       "  <tbody>\n",
       "    <tr>\n",
       "      <th>Main_Page</th>\n",
       "      <td>533239667</td>\n",
       "    </tr>\n",
       "    <tr>\n",
       "      <th>Web_scraping</th>\n",
       "      <td>30530158</td>\n",
       "    </tr>\n",
       "    <tr>\n",
       "      <th>Donald_Trump</th>\n",
       "      <td>8226748</td>\n",
       "    </tr>\n",
       "    <tr>\n",
       "      <th>Deadpool_(film)</th>\n",
       "      <td>6701168</td>\n",
       "    </tr>\n",
       "    <tr>\n",
       "      <th>XHamster</th>\n",
       "      <td>6198139</td>\n",
       "    </tr>\n",
       "  </tbody>\n",
       "</table>\n",
       "</div>"
      ],
      "text/plain": [
       "                     feb-n\n",
       "curr                      \n",
       "Main_Page        533239667\n",
       "Web_scraping      30530158\n",
       "Donald_Trump       8226748\n",
       "Deadpool_(film)    6701168\n",
       "XHamster           6198139"
      ]
     },
     "execution_count": 18,
     "metadata": {},
     "output_type": "execute_result"
    }
   ],
   "source": [
    "feb_df.groupby('curr').sum().sort_values('feb-n', ascending=False).head()"
   ]
  },
  {
   "cell_type": "code",
   "execution_count": 19,
   "metadata": {
    "collapsed": false
   },
   "outputs": [
    {
     "data": {
      "text/html": [
       "<div>\n",
       "<table border=\"1\" class=\"dataframe\">\n",
       "  <thead>\n",
       "    <tr style=\"text-align: right;\">\n",
       "      <th></th>\n",
       "      <th>march-n</th>\n",
       "    </tr>\n",
       "    <tr>\n",
       "      <th>curr</th>\n",
       "      <th></th>\n",
       "    </tr>\n",
       "  </thead>\n",
       "  <tbody>\n",
       "    <tr>\n",
       "      <th>Main_Page</th>\n",
       "      <td>499824019</td>\n",
       "    </tr>\n",
       "    <tr>\n",
       "      <th>Donald_Trump</th>\n",
       "      <td>21247127</td>\n",
       "    </tr>\n",
       "    <tr>\n",
       "      <th>Batman_v_Superman:_Dawn_of_Justice</th>\n",
       "      <td>6696171</td>\n",
       "    </tr>\n",
       "    <tr>\n",
       "      <th>XHamster</th>\n",
       "      <td>6378559</td>\n",
       "    </tr>\n",
       "    <tr>\n",
       "      <th>Java_(programming_language)</th>\n",
       "      <td>3398251</td>\n",
       "    </tr>\n",
       "  </tbody>\n",
       "</table>\n",
       "</div>"
      ],
      "text/plain": [
       "                                      march-n\n",
       "curr                                         \n",
       "Main_Page                           499824019\n",
       "Donald_Trump                         21247127\n",
       "Batman_v_Superman:_Dawn_of_Justice    6696171\n",
       "XHamster                              6378559\n",
       "Java_(programming_language)           3398251"
      ]
     },
     "execution_count": 19,
     "metadata": {},
     "output_type": "execute_result"
    }
   ],
   "source": [
    "march_df.groupby('curr').sum().sort_values('march-n', ascending=False).head()"
   ]
  },
  {
   "cell_type": "code",
   "execution_count": 20,
   "metadata": {
    "collapsed": false
   },
   "outputs": [
    {
     "data": {
      "text/html": [
       "<div>\n",
       "<table border=\"1\" class=\"dataframe\">\n",
       "  <thead>\n",
       "    <tr style=\"text-align: right;\">\n",
       "      <th></th>\n",
       "      <th>april-n</th>\n",
       "    </tr>\n",
       "    <tr>\n",
       "      <th>curr</th>\n",
       "      <th></th>\n",
       "    </tr>\n",
       "  </thead>\n",
       "  <tbody>\n",
       "    <tr>\n",
       "      <th>Main_Page</th>\n",
       "      <td>508529026</td>\n",
       "    </tr>\n",
       "    <tr>\n",
       "      <th>Prince_(musician)</th>\n",
       "      <td>17429179</td>\n",
       "    </tr>\n",
       "    <tr>\n",
       "      <th>XHamster</th>\n",
       "      <td>6152164</td>\n",
       "    </tr>\n",
       "    <tr>\n",
       "      <th>The_Adventures_of_Tintin</th>\n",
       "      <td>4099890</td>\n",
       "    </tr>\n",
       "    <tr>\n",
       "      <th>Batman_v_Superman:_Dawn_of_Justice</th>\n",
       "      <td>3816183</td>\n",
       "    </tr>\n",
       "  </tbody>\n",
       "</table>\n",
       "</div>"
      ],
      "text/plain": [
       "                                      april-n\n",
       "curr                                         \n",
       "Main_Page                           508529026\n",
       "Prince_(musician)                    17429179\n",
       "XHamster                              6152164\n",
       "The_Adventures_of_Tintin              4099890\n",
       "Batman_v_Superman:_Dawn_of_Justice    3816183"
      ]
     },
     "execution_count": 20,
     "metadata": {},
     "output_type": "execute_result"
    }
   ],
   "source": [
    "april_df.groupby('curr').sum().sort_values('april-n', ascending=False).head()"
   ]
  },
  {
   "cell_type": "markdown",
   "metadata": {},
   "source": [
    "# Can I accurately predicted the success of the 2016 presidential candidates based solely on the number of hits to each candidates Wikipedia page?"
   ]
  },
  {
   "cell_type": "code",
   "execution_count": null,
   "metadata": {
    "collapsed": true
   },
   "outputs": [],
   "source": [
    "wiki_df = "
   ]
  },
  {
   "cell_type": "code",
   "execution_count": null,
   "metadata": {
    "collapsed": true
   },
   "outputs": [],
   "source": []
  },
  {
   "cell_type": "code",
   "execution_count": null,
   "metadata": {
    "collapsed": true
   },
   "outputs": [],
   "source": []
  },
  {
   "cell_type": "code",
   "execution_count": 21,
   "metadata": {
    "collapsed": true
   },
   "outputs": [],
   "source": [
    "# all candidates still running in Feb 2016\n",
    "politicians_feb_list = ['Ben_Carson', 'Bernie_Sanders', 'Carly_Fiorina', 'Chris_Christie', 'Donald_Trump', \n",
    "                       'Hillary_Clinton', 'Jeb_Bush', 'Jim_Gilmore', 'John_Kasich', 'Marco_Rubio', \"Martin_O'Malley\", \n",
    "                        'Mike_Huckabee', 'Rand_Paul', 'Rick_Santorum', 'Ted_Cruz']"
   ]
  },
  {
   "cell_type": "code",
   "execution_count": 22,
   "metadata": {
    "collapsed": true
   },
   "outputs": [],
   "source": [
    "politicians_feb_df = pd.DataFrame()\n",
    "\n",
    "for name in politicians_feb_list:\n",
    "    politicians_feb_df = pd.concat([politicians_feb_df, \n",
    "                              feb_df[feb_df.curr == name].groupby('curr').sum()])"
   ]
  },
  {
   "cell_type": "markdown",
   "metadata": {},
   "source": [
    "#### Here are the presidential candidates in February 2016,  sorted by descending number of hits to their Wikipedia page in February:"
   ]
  },
  {
   "cell_type": "code",
   "execution_count": 23,
   "metadata": {
    "collapsed": false
   },
   "outputs": [
    {
     "data": {
      "text/html": [
       "<div>\n",
       "<table border=\"1\" class=\"dataframe\">\n",
       "  <thead>\n",
       "    <tr style=\"text-align: right;\">\n",
       "      <th></th>\n",
       "      <th>feb-n</th>\n",
       "    </tr>\n",
       "    <tr>\n",
       "      <th>curr</th>\n",
       "      <th></th>\n",
       "    </tr>\n",
       "  </thead>\n",
       "  <tbody>\n",
       "    <tr>\n",
       "      <th>Donald_Trump</th>\n",
       "      <td>8226748</td>\n",
       "    </tr>\n",
       "    <tr>\n",
       "      <th>Bernie_Sanders</th>\n",
       "      <td>3505934</td>\n",
       "    </tr>\n",
       "    <tr>\n",
       "      <th>Ted_Cruz</th>\n",
       "      <td>2231785</td>\n",
       "    </tr>\n",
       "    <tr>\n",
       "      <th>Marco_Rubio</th>\n",
       "      <td>1791416</td>\n",
       "    </tr>\n",
       "    <tr>\n",
       "      <th>Hillary_Clinton</th>\n",
       "      <td>1223988</td>\n",
       "    </tr>\n",
       "    <tr>\n",
       "      <th>John_Kasich</th>\n",
       "      <td>919589</td>\n",
       "    </tr>\n",
       "    <tr>\n",
       "      <th>Jeb_Bush</th>\n",
       "      <td>887982</td>\n",
       "    </tr>\n",
       "    <tr>\n",
       "      <th>Ben_Carson</th>\n",
       "      <td>502375</td>\n",
       "    </tr>\n",
       "    <tr>\n",
       "      <th>Chris_Christie</th>\n",
       "      <td>256310</td>\n",
       "    </tr>\n",
       "    <tr>\n",
       "      <th>Carly_Fiorina</th>\n",
       "      <td>199287</td>\n",
       "    </tr>\n",
       "    <tr>\n",
       "      <th>Rand_Paul</th>\n",
       "      <td>164719</td>\n",
       "    </tr>\n",
       "    <tr>\n",
       "      <th>Martin_O'Malley</th>\n",
       "      <td>130471</td>\n",
       "    </tr>\n",
       "    <tr>\n",
       "      <th>Jim_Gilmore</th>\n",
       "      <td>106401</td>\n",
       "    </tr>\n",
       "    <tr>\n",
       "      <th>Rick_Santorum</th>\n",
       "      <td>88802</td>\n",
       "    </tr>\n",
       "    <tr>\n",
       "      <th>Mike_Huckabee</th>\n",
       "      <td>64508</td>\n",
       "    </tr>\n",
       "  </tbody>\n",
       "</table>\n",
       "</div>"
      ],
      "text/plain": [
       "                   feb-n\n",
       "curr                    \n",
       "Donald_Trump     8226748\n",
       "Bernie_Sanders   3505934\n",
       "Ted_Cruz         2231785\n",
       "Marco_Rubio      1791416\n",
       "Hillary_Clinton  1223988\n",
       "John_Kasich       919589\n",
       "Jeb_Bush          887982\n",
       "Ben_Carson        502375\n",
       "Chris_Christie    256310\n",
       "Carly_Fiorina     199287\n",
       "Rand_Paul         164719\n",
       "Martin_O'Malley   130471\n",
       "Jim_Gilmore       106401\n",
       "Rick_Santorum      88802\n",
       "Mike_Huckabee      64508"
      ]
     },
     "execution_count": 23,
     "metadata": {},
     "output_type": "execute_result"
    }
   ],
   "source": [
    "politicians_feb_df.sort_values('feb-n', ascending=False)"
   ]
  },
  {
   "cell_type": "markdown",
   "metadata": {},
   "source": [
    "#### In February 2016, the following candidates dropped out of the race: \n",
    "* Martin O'Malley\n",
    "* Mike Huckabee\n",
    "* Rand Paul\n",
    "* Rick Santorum\n",
    "* Carly Fiorina\n",
    "* Chris Christie\n",
    "* Jeb Bush\n",
    "* Jim Gilmore\n"
   ]
  },
  {
   "cell_type": "markdown",
   "metadata": {},
   "source": [
    "#### Indeed, of the 10 least popular candidates, 8  dropped out."
   ]
  },
  {
   "cell_type": "code",
   "execution_count": 24,
   "metadata": {
    "collapsed": true
   },
   "outputs": [],
   "source": [
    "# all candidates still running in March 2016\n",
    "politicians_march_list = ['Ben_Carson', 'Bernie_Sanders', 'Donald_Trump', 'Hillary_Clinton',\n",
    "                          'John_Kasich', 'Marco_Rubio',  'Ted_Cruz']"
   ]
  },
  {
   "cell_type": "code",
   "execution_count": 25,
   "metadata": {
    "collapsed": true
   },
   "outputs": [],
   "source": [
    "politicians_march_df = pd.DataFrame()\n",
    "\n",
    "for name in politicians_march_list:\n",
    "    politicians_march_df = pd.concat([politicians_march_df, \n",
    "                              march_df[march_df.curr == name] .groupby('curr').sum()])"
   ]
  },
  {
   "cell_type": "markdown",
   "metadata": {},
   "source": [
    "#### Here are the presidential candidates in March 2016,  sorted by descending number of hits to their Wikipedia page in March:"
   ]
  },
  {
   "cell_type": "code",
   "execution_count": 26,
   "metadata": {
    "collapsed": false
   },
   "outputs": [
    {
     "data": {
      "text/html": [
       "<div>\n",
       "<table border=\"1\" class=\"dataframe\">\n",
       "  <thead>\n",
       "    <tr style=\"text-align: right;\">\n",
       "      <th></th>\n",
       "      <th>march-n</th>\n",
       "    </tr>\n",
       "    <tr>\n",
       "      <th>curr</th>\n",
       "      <th></th>\n",
       "    </tr>\n",
       "  </thead>\n",
       "  <tbody>\n",
       "    <tr>\n",
       "      <th>Donald_Trump</th>\n",
       "      <td>21247127</td>\n",
       "    </tr>\n",
       "    <tr>\n",
       "      <th>Bernie_Sanders</th>\n",
       "      <td>1966194</td>\n",
       "    </tr>\n",
       "    <tr>\n",
       "      <th>Ted_Cruz</th>\n",
       "      <td>1658620</td>\n",
       "    </tr>\n",
       "    <tr>\n",
       "      <th>Hillary_Clinton</th>\n",
       "      <td>1440389</td>\n",
       "    </tr>\n",
       "    <tr>\n",
       "      <th>John_Kasich</th>\n",
       "      <td>1178176</td>\n",
       "    </tr>\n",
       "    <tr>\n",
       "      <th>Marco_Rubio</th>\n",
       "      <td>1014123</td>\n",
       "    </tr>\n",
       "    <tr>\n",
       "      <th>Ben_Carson</th>\n",
       "      <td>415918</td>\n",
       "    </tr>\n",
       "  </tbody>\n",
       "</table>\n",
       "</div>"
      ],
      "text/plain": [
       "                  march-n\n",
       "curr                     \n",
       "Donald_Trump     21247127\n",
       "Bernie_Sanders    1966194\n",
       "Ted_Cruz          1658620\n",
       "Hillary_Clinton   1440389\n",
       "John_Kasich       1178176\n",
       "Marco_Rubio       1014123\n",
       "Ben_Carson         415918"
      ]
     },
     "execution_count": 26,
     "metadata": {},
     "output_type": "execute_result"
    }
   ],
   "source": [
    "politicians_march_df.sort_values('march-n', ascending=False)"
   ]
  },
  {
   "cell_type": "markdown",
   "metadata": {},
   "source": [
    "#### In March 2016, the following candidates dropped out of the race:\n",
    "* Ben Carson\n",
    "* Marco Rubio\n"
   ]
  },
  {
   "cell_type": "markdown",
   "metadata": {},
   "source": [
    "#### Again, the 2 least popular candidates on Wikipedia dropped out of the race."
   ]
  },
  {
   "cell_type": "code",
   "execution_count": 27,
   "metadata": {
    "collapsed": true
   },
   "outputs": [],
   "source": [
    "# all candidates still running in April 2016\n",
    "politicians_april_list = ['Bernie_Sanders', 'Donald_Trump', 'Hillary_Clinton', 'John_Kasich', 'Ted_Cruz']"
   ]
  },
  {
   "cell_type": "code",
   "execution_count": 28,
   "metadata": {
    "collapsed": true
   },
   "outputs": [],
   "source": [
    "politicians_april_df = pd.DataFrame()\n",
    "\n",
    "for name in politicians_april_list:\n",
    "    politicians_april_df = pd.concat([politicians_april_df, \n",
    "                              april_df[april_df.curr == name].groupby('curr').sum()])"
   ]
  },
  {
   "cell_type": "markdown",
   "metadata": {},
   "source": [
    "#### Here are the presidential candidates in April 2016,  sorted by descending number of hits to their Wikipedia page in April:"
   ]
  },
  {
   "cell_type": "code",
   "execution_count": 29,
   "metadata": {
    "collapsed": false
   },
   "outputs": [
    {
     "data": {
      "text/html": [
       "<div>\n",
       "<table border=\"1\" class=\"dataframe\">\n",
       "  <thead>\n",
       "    <tr style=\"text-align: right;\">\n",
       "      <th></th>\n",
       "      <th>april-n</th>\n",
       "    </tr>\n",
       "    <tr>\n",
       "      <th>curr</th>\n",
       "      <th></th>\n",
       "    </tr>\n",
       "  </thead>\n",
       "  <tbody>\n",
       "    <tr>\n",
       "      <th>Donald_Trump</th>\n",
       "      <td>3278321</td>\n",
       "    </tr>\n",
       "    <tr>\n",
       "      <th>Bernie_Sanders</th>\n",
       "      <td>1285179</td>\n",
       "    </tr>\n",
       "    <tr>\n",
       "      <th>Hillary_Clinton</th>\n",
       "      <td>870325</td>\n",
       "    </tr>\n",
       "    <tr>\n",
       "      <th>Ted_Cruz</th>\n",
       "      <td>819175</td>\n",
       "    </tr>\n",
       "    <tr>\n",
       "      <th>John_Kasich</th>\n",
       "      <td>392893</td>\n",
       "    </tr>\n",
       "  </tbody>\n",
       "</table>\n",
       "</div>"
      ],
      "text/plain": [
       "                 april-n\n",
       "curr                    \n",
       "Donald_Trump     3278321\n",
       "Bernie_Sanders   1285179\n",
       "Hillary_Clinton   870325\n",
       "Ted_Cruz          819175\n",
       "John_Kasich       392893"
      ]
     },
     "execution_count": 29,
     "metadata": {},
     "output_type": "execute_result"
    }
   ],
   "source": [
    "politicians_april_df.sort_values('april-n', ascending=False)"
   ]
  },
  {
   "cell_type": "markdown",
   "metadata": {},
   "source": [
    "#### No candidates dropped out of the race in April 2016. \n",
    "\n",
    "#### However, in May 2016 the following candidates dropped out of the race:\n",
    "* Ted Cruz\n",
    "* John Kasich"
   ]
  },
  {
   "cell_type": "markdown",
   "metadata": {},
   "source": [
    "### Indeed, Wikipedia Clickstream data has been an accurate tool to measure success of candidates  up to April 2016 for the Presidential Election."
   ]
  },
  {
   "cell_type": "markdown",
   "metadata": {},
   "source": [
    "# Facebook vs. Twitter vs. Google "
   ]
  },
  {
   "cell_type": "markdown",
   "metadata": {},
   "source": [
    "Which platform drove most traffic to the candidates pages? (using March 2016 data b/c it differentiates between facebook/twitter/google)"
   ]
  },
  {
   "cell_type": "code",
   "execution_count": 30,
   "metadata": {
    "collapsed": true
   },
   "outputs": [],
   "source": [
    "# all candidates still running in May 2016\n",
    "politicians_current_list = ['Bernie_Sanders', 'Donald_Trump', 'Hillary_Clinton']"
   ]
  },
  {
   "cell_type": "code",
   "execution_count": 31,
   "metadata": {
    "collapsed": false
   },
   "outputs": [],
   "source": [
    "fb_df = pd.DataFrame()\n",
    "\n",
    "for name in politicians_current_list:\n",
    "    fb_df = pd.concat([fb_df, \n",
    "                      march_df[(march_df['curr'] == name) &\n",
    "                               (march_df['prev'] == \"other-facebook\")]])"
   ]
  },
  {
   "cell_type": "code",
   "execution_count": 32,
   "metadata": {
    "collapsed": false
   },
   "outputs": [
    {
     "data": {
      "text/html": [
       "<div>\n",
       "<table border=\"1\" class=\"dataframe\">\n",
       "  <thead>\n",
       "    <tr style=\"text-align: right;\">\n",
       "      <th></th>\n",
       "      <th>prev</th>\n",
       "      <th>curr</th>\n",
       "      <th>type</th>\n",
       "      <th>march-n</th>\n",
       "    </tr>\n",
       "  </thead>\n",
       "  <tbody>\n",
       "    <tr>\n",
       "      <th>17113887</th>\n",
       "      <td>other-facebook</td>\n",
       "      <td>Donald_Trump</td>\n",
       "      <td>external</td>\n",
       "      <td>3024676</td>\n",
       "    </tr>\n",
       "    <tr>\n",
       "      <th>2622838</th>\n",
       "      <td>other-facebook</td>\n",
       "      <td>Bernie_Sanders</td>\n",
       "      <td>external</td>\n",
       "      <td>12183</td>\n",
       "    </tr>\n",
       "    <tr>\n",
       "      <th>6329890</th>\n",
       "      <td>other-facebook</td>\n",
       "      <td>Hillary_Clinton</td>\n",
       "      <td>external</td>\n",
       "      <td>1638</td>\n",
       "    </tr>\n",
       "  </tbody>\n",
       "</table>\n",
       "</div>"
      ],
      "text/plain": [
       "                    prev             curr      type  march-n\n",
       "17113887  other-facebook     Donald_Trump  external  3024676\n",
       "2622838   other-facebook   Bernie_Sanders  external    12183\n",
       "6329890   other-facebook  Hillary_Clinton  external     1638"
      ]
     },
     "execution_count": 32,
     "metadata": {},
     "output_type": "execute_result"
    }
   ],
   "source": [
    "fb_df.sort_values('march-n', ascending=False)"
   ]
  },
  {
   "cell_type": "code",
   "execution_count": 33,
   "metadata": {
    "collapsed": true
   },
   "outputs": [],
   "source": [
    "twitter_df = pd.DataFrame()\n",
    "\n",
    "for name in politicians_current_list:\n",
    "    twitter_df = pd.concat([twitter_df, \n",
    "                      march_df[(march_df['curr'] == name) &\n",
    "                               (march_df['prev'] == \"other-twitter\")]])"
   ]
  },
  {
   "cell_type": "code",
   "execution_count": 34,
   "metadata": {
    "collapsed": false
   },
   "outputs": [
    {
     "data": {
      "text/html": [
       "<div>\n",
       "<table border=\"1\" class=\"dataframe\">\n",
       "  <thead>\n",
       "    <tr style=\"text-align: right;\">\n",
       "      <th></th>\n",
       "      <th>prev</th>\n",
       "      <th>curr</th>\n",
       "      <th>type</th>\n",
       "      <th>march-n</th>\n",
       "    </tr>\n",
       "  </thead>\n",
       "  <tbody>\n",
       "    <tr>\n",
       "      <th>8065526</th>\n",
       "      <td>other-twitter</td>\n",
       "      <td>Donald_Trump</td>\n",
       "      <td>external</td>\n",
       "      <td>269423</td>\n",
       "    </tr>\n",
       "    <tr>\n",
       "      <th>13793075</th>\n",
       "      <td>other-twitter</td>\n",
       "      <td>Bernie_Sanders</td>\n",
       "      <td>external</td>\n",
       "      <td>1397</td>\n",
       "    </tr>\n",
       "    <tr>\n",
       "      <th>17503934</th>\n",
       "      <td>other-twitter</td>\n",
       "      <td>Hillary_Clinton</td>\n",
       "      <td>external</td>\n",
       "      <td>657</td>\n",
       "    </tr>\n",
       "  </tbody>\n",
       "</table>\n",
       "</div>"
      ],
      "text/plain": [
       "                   prev             curr      type  march-n\n",
       "8065526   other-twitter     Donald_Trump  external   269423\n",
       "13793075  other-twitter   Bernie_Sanders  external     1397\n",
       "17503934  other-twitter  Hillary_Clinton  external      657"
      ]
     },
     "execution_count": 34,
     "metadata": {},
     "output_type": "execute_result"
    }
   ],
   "source": [
    "twitter_df.sort_values('march-n', ascending=False)"
   ]
  },
  {
   "cell_type": "code",
   "execution_count": 35,
   "metadata": {
    "collapsed": true
   },
   "outputs": [],
   "source": [
    "google_df = pd.DataFrame()\n",
    "\n",
    "for name in politicians_current_list:\n",
    "    google_df = pd.concat([google_df, \n",
    "                      march_df[(march_df['curr'] == name) &\n",
    "                               (march_df['prev'] == \"other-google\")]])"
   ]
  },
  {
   "cell_type": "code",
   "execution_count": 36,
   "metadata": {
    "collapsed": false
   },
   "outputs": [
    {
     "data": {
      "text/html": [
       "<div>\n",
       "<table border=\"1\" class=\"dataframe\">\n",
       "  <thead>\n",
       "    <tr style=\"text-align: right;\">\n",
       "      <th></th>\n",
       "      <th>prev</th>\n",
       "      <th>curr</th>\n",
       "      <th>type</th>\n",
       "      <th>march-n</th>\n",
       "    </tr>\n",
       "  </thead>\n",
       "  <tbody>\n",
       "    <tr>\n",
       "      <th>22853727</th>\n",
       "      <td>other-google</td>\n",
       "      <td>Donald_Trump</td>\n",
       "      <td>external</td>\n",
       "      <td>3599213</td>\n",
       "    </tr>\n",
       "    <tr>\n",
       "      <th>8355536</th>\n",
       "      <td>other-google</td>\n",
       "      <td>Bernie_Sanders</td>\n",
       "      <td>external</td>\n",
       "      <td>1287527</td>\n",
       "    </tr>\n",
       "    <tr>\n",
       "      <th>12074774</th>\n",
       "      <td>other-google</td>\n",
       "      <td>Hillary_Clinton</td>\n",
       "      <td>external</td>\n",
       "      <td>781268</td>\n",
       "    </tr>\n",
       "  </tbody>\n",
       "</table>\n",
       "</div>"
      ],
      "text/plain": [
       "                  prev             curr      type  march-n\n",
       "22853727  other-google     Donald_Trump  external  3599213\n",
       "8355536   other-google   Bernie_Sanders  external  1287527\n",
       "12074774  other-google  Hillary_Clinton  external   781268"
      ]
     },
     "execution_count": 36,
     "metadata": {},
     "output_type": "execute_result"
    }
   ],
   "source": [
    "google_df.sort_values('march-n', ascending=False)"
   ]
  },
  {
   "cell_type": "code",
   "execution_count": 39,
   "metadata": {
    "collapsed": false
   },
   "outputs": [],
   "source": [
    "#google.charts.load('current', {'packages':['sankey']});"
   ]
  },
  {
   "cell_type": "code",
   "execution_count": 1,
   "metadata": {
    "collapsed": false
   },
   "outputs": [
    {
     "data": {
      "text/html": [
       "\n",
       "<html>\n",
       "  <head>\n",
       "    <script type=\"text/javascript\" src=\"https://www.gstatic.com/charts/loader.js\"></script>\n",
       "    <script type=\"text/javascript\">\n",
       "     google.charts.load('current', {'packages':['sankey']});\n",
       "      google.charts.setOnLoadCallback(drawChart);\n",
       "\n",
       "      function drawChart() {\n",
       "        var data = new google.visualization.DataTable();\n",
       "        data.addColumn('string', 'From');\n",
       "        data.addColumn('string', 'To');\n",
       "        data.addColumn('number', 'Weight');\n",
       "\n",
       "        data.addRows([\n",
       "          [ 'google', 'Trump', 3599213 ],\n",
       "          [ 'google', 'Clinton', 781268 ],\n",
       "          [ 'google', 'Sanders', 1287527 ],             \n",
       "          [ 'facebook', 'Trump', 3024676 ],\n",
       "          [ 'facebook', 'Clinton', 1638 ],\n",
       "          [ 'facebook', 'Sanders', 12183 ],\n",
       "          [ 'twitter', 'Trump', 269423 ],\n",
       "          [ 'twitter', 'Clinton', 657 ], \n",
       "          [ 'twitter', 'Sanders', 1397 ],              \n",
       "                \n",
       "        ]);\n",
       "\n",
       "        // Sets chart options.\n",
       "        var options = {\n",
       "          width: 600,\n",
       "        };\n",
       "\n",
       "        // Instantiates and draws our chart, passing in some options.\n",
       "        var chart = new google.visualization.Sankey(document.getElementById('sankey_sm'));\n",
       "        chart.draw(data, options);\n",
       "      }\n",
       "    </script>\n",
       "  </head>\n",
       "  <body>\n",
       "    <div id=\"sankey_sm\" style=\"width: 900px; height: 300px;\"></div>\n",
       "  </body>\n",
       "</html>"
      ],
      "text/plain": [
       "<IPython.core.display.HTML object>"
      ]
     },
     "metadata": {},
     "output_type": "display_data"
    }
   ],
   "source": [
    "%%html\n",
    "\n",
    "<html>\n",
    "  <head>\n",
    "    <script type=\"text/javascript\" src=\"https://www.gstatic.com/charts/loader.js\"></script>\n",
    "    <script type=\"text/javascript\">\n",
    "     google.charts.load('current', {'packages':['sankey']});\n",
    "      google.charts.setOnLoadCallback(drawChart);\n",
    "\n",
    "      function drawChart() {\n",
    "        var data = new google.visualization.DataTable();\n",
    "        data.addColumn('string', 'From');\n",
    "        data.addColumn('string', 'To');\n",
    "        data.addColumn('number', 'Weight');\n",
    "\n",
    "        data.addRows([\n",
    "          [ 'google', 'Trump', 3599213 ],\n",
    "          [ 'google', 'Clinton', 781268 ],\n",
    "          [ 'google', 'Sanders', 1287527 ],             \n",
    "          [ 'facebook', 'Trump', 3024676 ],\n",
    "          [ 'facebook', 'Clinton', 1638 ],\n",
    "          [ 'facebook', 'Sanders', 12183 ],\n",
    "          [ 'twitter', 'Trump', 269423 ],\n",
    "          [ 'twitter', 'Clinton', 657 ], \n",
    "          [ 'twitter', 'Sanders', 1397 ],              \n",
    "                \n",
    "        ]);\n",
    "\n",
    "        // Sets chart options.\n",
    "        var options = {\n",
    "          width: 600,\n",
    "        };\n",
    "\n",
    "        // Instantiates and draws our chart, passing in some options.\n",
    "        var chart = new google.visualization.Sankey(document.getElementById('sankey_sm'));\n",
    "        chart.draw(data, options);\n",
    "      }\n",
    "    </script>\n",
    "  </head>\n",
    "  <body>\n",
    "    <div id=\"sankey_sm\" style=\"width: 900px; height: 300px;\"></div>\n",
    "  </body>\n",
    "</html>"
   ]
  },
  {
   "cell_type": "code",
   "execution_count": null,
   "metadata": {
    "collapsed": true
   },
   "outputs": [],
   "source": []
  },
  {
   "cell_type": "code",
   "execution_count": null,
   "metadata": {
    "collapsed": true
   },
   "outputs": [],
   "source": []
  },
  {
   "cell_type": "markdown",
   "metadata": {},
   "source": [
    "# April 2016 Sankey Diagram"
   ]
  },
  {
   "cell_type": "code",
   "execution_count": 41,
   "metadata": {
    "collapsed": false
   },
   "outputs": [
    {
     "data": {
      "text/html": [
       "<div>\n",
       "<table border=\"1\" class=\"dataframe\">\n",
       "  <thead>\n",
       "    <tr style=\"text-align: right;\">\n",
       "      <th></th>\n",
       "      <th>prev</th>\n",
       "      <th>curr</th>\n",
       "      <th>type</th>\n",
       "      <th>april-n</th>\n",
       "    </tr>\n",
       "  </thead>\n",
       "  <tbody>\n",
       "    <tr>\n",
       "      <th>18707011</th>\n",
       "      <td>United_States_presidential_election,_2016</td>\n",
       "      <td>Democratic_Party_presidential_primaries,_2016</td>\n",
       "      <td>link</td>\n",
       "      <td>44666</td>\n",
       "    </tr>\n",
       "    <tr>\n",
       "      <th>17530111</th>\n",
       "      <td>United_States_presidential_election,_2016</td>\n",
       "      <td>Republican_Party_presidential_primaries,_2016</td>\n",
       "      <td>link</td>\n",
       "      <td>42770</td>\n",
       "    </tr>\n",
       "    <tr>\n",
       "      <th>5464857</th>\n",
       "      <td>United_States_presidential_election,_2016</td>\n",
       "      <td>Nationwide_opinion_polling_for_the_United_Stat...</td>\n",
       "      <td>link</td>\n",
       "      <td>13170</td>\n",
       "    </tr>\n",
       "    <tr>\n",
       "      <th>166459</th>\n",
       "      <td>United_States_presidential_election,_2016</td>\n",
       "      <td>United_States_presidential_election,_2012</td>\n",
       "      <td>link</td>\n",
       "      <td>11494</td>\n",
       "    </tr>\n",
       "    <tr>\n",
       "      <th>18707015</th>\n",
       "      <td>United_States_presidential_election,_2016</td>\n",
       "      <td>Statewide_opinion_polling_for_the_Democratic_P...</td>\n",
       "      <td>link</td>\n",
       "      <td>10110</td>\n",
       "    </tr>\n",
       "    <tr>\n",
       "      <th>18707018</th>\n",
       "      <td>United_States_presidential_election,_2016</td>\n",
       "      <td>United_States_presidential_primary</td>\n",
       "      <td>link</td>\n",
       "      <td>9222</td>\n",
       "    </tr>\n",
       "    <tr>\n",
       "      <th>17530112</th>\n",
       "      <td>United_States_presidential_election,_2016</td>\n",
       "      <td>Statewide_opinion_polling_for_the_Republican_P...</td>\n",
       "      <td>link</td>\n",
       "      <td>9061</td>\n",
       "    </tr>\n",
       "    <tr>\n",
       "      <th>1342426</th>\n",
       "      <td>United_States_presidential_election,_2016</td>\n",
       "      <td>Donald_Trump</td>\n",
       "      <td>link</td>\n",
       "      <td>8232</td>\n",
       "    </tr>\n",
       "    <tr>\n",
       "      <th>1048882</th>\n",
       "      <td>United_States_presidential_election,_2016</td>\n",
       "      <td>Bernie_Sanders</td>\n",
       "      <td>link</td>\n",
       "      <td>6947</td>\n",
       "    </tr>\n",
       "    <tr>\n",
       "      <th>15767134</th>\n",
       "      <td>United_States_presidential_election,_2016</td>\n",
       "      <td>Nationwide_opinion_polling_for_the_Democratic_...</td>\n",
       "      <td>link</td>\n",
       "      <td>6768</td>\n",
       "    </tr>\n",
       "    <tr>\n",
       "      <th>8704153</th>\n",
       "      <td>United_States_presidential_election,_2016</td>\n",
       "      <td>United_States_presidential_election,_2020</td>\n",
       "      <td>link</td>\n",
       "      <td>6288</td>\n",
       "    </tr>\n",
       "    <tr>\n",
       "      <th>3992361</th>\n",
       "      <td>United_States_presidential_election,_2016</td>\n",
       "      <td>Nationwide_opinion_polling_for_the_Republican_...</td>\n",
       "      <td>link</td>\n",
       "      <td>6237</td>\n",
       "    </tr>\n",
       "    <tr>\n",
       "      <th>14003640</th>\n",
       "      <td>United_States_presidential_election,_2016</td>\n",
       "      <td>The_Trump_Organization</td>\n",
       "      <td>link</td>\n",
       "      <td>6220</td>\n",
       "    </tr>\n",
       "    <tr>\n",
       "      <th>13708423</th>\n",
       "      <td>United_States_presidential_election,_2016</td>\n",
       "      <td>Hillary_Clinton</td>\n",
       "      <td>link</td>\n",
       "      <td>5326</td>\n",
       "    </tr>\n",
       "    <tr>\n",
       "      <th>6053537</th>\n",
       "      <td>United_States_presidential_election,_2016</td>\n",
       "      <td>Statewide_opinion_polling_for_the_United_State...</td>\n",
       "      <td>link</td>\n",
       "      <td>5208</td>\n",
       "    </tr>\n",
       "  </tbody>\n",
       "</table>\n",
       "</div>"
      ],
      "text/plain": [
       "                                               prev  \\\n",
       "18707011  United_States_presidential_election,_2016   \n",
       "17530111  United_States_presidential_election,_2016   \n",
       "5464857   United_States_presidential_election,_2016   \n",
       "166459    United_States_presidential_election,_2016   \n",
       "18707015  United_States_presidential_election,_2016   \n",
       "18707018  United_States_presidential_election,_2016   \n",
       "17530112  United_States_presidential_election,_2016   \n",
       "1342426   United_States_presidential_election,_2016   \n",
       "1048882   United_States_presidential_election,_2016   \n",
       "15767134  United_States_presidential_election,_2016   \n",
       "8704153   United_States_presidential_election,_2016   \n",
       "3992361   United_States_presidential_election,_2016   \n",
       "14003640  United_States_presidential_election,_2016   \n",
       "13708423  United_States_presidential_election,_2016   \n",
       "6053537   United_States_presidential_election,_2016   \n",
       "\n",
       "                                                       curr  type  april-n  \n",
       "18707011      Democratic_Party_presidential_primaries,_2016  link    44666  \n",
       "17530111      Republican_Party_presidential_primaries,_2016  link    42770  \n",
       "5464857   Nationwide_opinion_polling_for_the_United_Stat...  link    13170  \n",
       "166459            United_States_presidential_election,_2012  link    11494  \n",
       "18707015  Statewide_opinion_polling_for_the_Democratic_P...  link    10110  \n",
       "18707018                 United_States_presidential_primary  link     9222  \n",
       "17530112  Statewide_opinion_polling_for_the_Republican_P...  link     9061  \n",
       "1342426                                        Donald_Trump  link     8232  \n",
       "1048882                                      Bernie_Sanders  link     6947  \n",
       "15767134  Nationwide_opinion_polling_for_the_Democratic_...  link     6768  \n",
       "8704153           United_States_presidential_election,_2020  link     6288  \n",
       "3992361   Nationwide_opinion_polling_for_the_Republican_...  link     6237  \n",
       "14003640                             The_Trump_Organization  link     6220  \n",
       "13708423                                    Hillary_Clinton  link     5326  \n",
       "6053537   Statewide_opinion_polling_for_the_United_State...  link     5208  "
      ]
     },
     "execution_count": 41,
     "metadata": {},
     "output_type": "execute_result"
    }
   ],
   "source": [
    "april_df[april_df.prev == \"United_States_presidential_election,_2016\"].sort_values('april-n', ascending=False)[:15]"
   ]
  },
  {
   "cell_type": "code",
   "execution_count": 42,
   "metadata": {
    "collapsed": false
   },
   "outputs": [
    {
     "data": {
      "text/html": [
       "<div>\n",
       "<table border=\"1\" class=\"dataframe\">\n",
       "  <thead>\n",
       "    <tr style=\"text-align: right;\">\n",
       "      <th></th>\n",
       "      <th>prev</th>\n",
       "      <th>curr</th>\n",
       "      <th>type</th>\n",
       "      <th>april-n</th>\n",
       "    </tr>\n",
       "  </thead>\n",
       "  <tbody>\n",
       "    <tr>\n",
       "      <th>12402612</th>\n",
       "      <td>Democratic_Party_presidential_primaries,_2016</td>\n",
       "      <td>Republican_Party_presidential_primaries,_2016</td>\n",
       "      <td>link</td>\n",
       "      <td>44122</td>\n",
       "    </tr>\n",
       "    <tr>\n",
       "      <th>10930616</th>\n",
       "      <td>Democratic_Party_presidential_primaries,_2016</td>\n",
       "      <td>New_York_Democratic_primary,_2016</td>\n",
       "      <td>link</td>\n",
       "      <td>17960</td>\n",
       "    </tr>\n",
       "    <tr>\n",
       "      <th>12402608</th>\n",
       "      <td>Democratic_Party_presidential_primaries,_2016</td>\n",
       "      <td>Democratic_Party_presidential_primaries,_2012</td>\n",
       "      <td>link</td>\n",
       "      <td>16881</td>\n",
       "    </tr>\n",
       "    <tr>\n",
       "      <th>7105590</th>\n",
       "      <td>Democratic_Party_presidential_primaries,_2016</td>\n",
       "      <td>Statewide_opinion_polling_for_the_Democratic_P...</td>\n",
       "      <td>link</td>\n",
       "      <td>13655</td>\n",
       "    </tr>\n",
       "    <tr>\n",
       "      <th>10930617</th>\n",
       "      <td>Democratic_Party_presidential_primaries,_2016</td>\n",
       "      <td>Results_of_the_Democratic_Party_presidential_p...</td>\n",
       "      <td>link</td>\n",
       "      <td>12018</td>\n",
       "    </tr>\n",
       "    <tr>\n",
       "      <th>9165353</th>\n",
       "      <td>Democratic_Party_presidential_primaries,_2016</td>\n",
       "      <td>List_of_Democratic_Party_superdelegates,_2016</td>\n",
       "      <td>link</td>\n",
       "      <td>10156</td>\n",
       "    </tr>\n",
       "    <tr>\n",
       "      <th>17696702</th>\n",
       "      <td>Democratic_Party_presidential_primaries,_2016</td>\n",
       "      <td>Bernie_Sanders</td>\n",
       "      <td>link</td>\n",
       "      <td>9765</td>\n",
       "    </tr>\n",
       "    <tr>\n",
       "      <th>7399708</th>\n",
       "      <td>Democratic_Party_presidential_primaries,_2016</td>\n",
       "      <td>Wyoming_Democratic_caucuses,_2016</td>\n",
       "      <td>link</td>\n",
       "      <td>9488</td>\n",
       "    </tr>\n",
       "    <tr>\n",
       "      <th>15933223</th>\n",
       "      <td>Democratic_Party_presidential_primaries,_2016</td>\n",
       "      <td>Wisconsin_Democratic_primary,_2016</td>\n",
       "      <td>link</td>\n",
       "      <td>7729</td>\n",
       "    </tr>\n",
       "    <tr>\n",
       "      <th>8577269</th>\n",
       "      <td>Democratic_Party_presidential_primaries,_2016</td>\n",
       "      <td>Hillary_Clinton</td>\n",
       "      <td>link</td>\n",
       "      <td>6693</td>\n",
       "    </tr>\n",
       "  </tbody>\n",
       "</table>\n",
       "</div>"
      ],
      "text/plain": [
       "                                                   prev  \\\n",
       "12402612  Democratic_Party_presidential_primaries,_2016   \n",
       "10930616  Democratic_Party_presidential_primaries,_2016   \n",
       "12402608  Democratic_Party_presidential_primaries,_2016   \n",
       "7105590   Democratic_Party_presidential_primaries,_2016   \n",
       "10930617  Democratic_Party_presidential_primaries,_2016   \n",
       "9165353   Democratic_Party_presidential_primaries,_2016   \n",
       "17696702  Democratic_Party_presidential_primaries,_2016   \n",
       "7399708   Democratic_Party_presidential_primaries,_2016   \n",
       "15933223  Democratic_Party_presidential_primaries,_2016   \n",
       "8577269   Democratic_Party_presidential_primaries,_2016   \n",
       "\n",
       "                                                       curr  type  april-n  \n",
       "12402612      Republican_Party_presidential_primaries,_2016  link    44122  \n",
       "10930616                  New_York_Democratic_primary,_2016  link    17960  \n",
       "12402608      Democratic_Party_presidential_primaries,_2012  link    16881  \n",
       "7105590   Statewide_opinion_polling_for_the_Democratic_P...  link    13655  \n",
       "10930617  Results_of_the_Democratic_Party_presidential_p...  link    12018  \n",
       "9165353       List_of_Democratic_Party_superdelegates,_2016  link    10156  \n",
       "17696702                                     Bernie_Sanders  link     9765  \n",
       "7399708                   Wyoming_Democratic_caucuses,_2016  link     9488  \n",
       "15933223                 Wisconsin_Democratic_primary,_2016  link     7729  \n",
       "8577269                                     Hillary_Clinton  link     6693  "
      ]
     },
     "execution_count": 42,
     "metadata": {},
     "output_type": "execute_result"
    }
   ],
   "source": [
    "april_df[april_df.prev == \"Democratic_Party_presidential_primaries,_2016\"].sort_values('april-n', ascending=False)[:10]"
   ]
  },
  {
   "cell_type": "code",
   "execution_count": 43,
   "metadata": {
    "collapsed": false
   },
   "outputs": [
    {
     "data": {
      "text/html": [
       "<div>\n",
       "<table border=\"1\" class=\"dataframe\">\n",
       "  <thead>\n",
       "    <tr style=\"text-align: right;\">\n",
       "      <th></th>\n",
       "      <th>prev</th>\n",
       "      <th>curr</th>\n",
       "      <th>type</th>\n",
       "      <th>april-n</th>\n",
       "    </tr>\n",
       "  </thead>\n",
       "  <tbody>\n",
       "    <tr>\n",
       "      <th>9554175</th>\n",
       "      <td>Republican_Party_presidential_primaries,_2016</td>\n",
       "      <td>Democratic_Party_presidential_primaries,_2016</td>\n",
       "      <td>link</td>\n",
       "      <td>40097</td>\n",
       "    </tr>\n",
       "    <tr>\n",
       "      <th>21027236</th>\n",
       "      <td>Republican_Party_presidential_primaries,_2016</td>\n",
       "      <td>Results_of_the_Republican_Party_presidential_p...</td>\n",
       "      <td>link</td>\n",
       "      <td>18768</td>\n",
       "    </tr>\n",
       "    <tr>\n",
       "      <th>7200656</th>\n",
       "      <td>Republican_Party_presidential_primaries,_2016</td>\n",
       "      <td>Republican_Party_presidential_primaries,_2012</td>\n",
       "      <td>link</td>\n",
       "      <td>13842</td>\n",
       "    </tr>\n",
       "    <tr>\n",
       "      <th>1900106</th>\n",
       "      <td>Republican_Party_presidential_primaries,_2016</td>\n",
       "      <td>Statewide_opinion_polling_for_the_Republican_P...</td>\n",
       "      <td>link</td>\n",
       "      <td>13596</td>\n",
       "    </tr>\n",
       "    <tr>\n",
       "      <th>13972021</th>\n",
       "      <td>Republican_Party_presidential_primaries,_2016</td>\n",
       "      <td>Donald_Trump</td>\n",
       "      <td>link</td>\n",
       "      <td>8891</td>\n",
       "    </tr>\n",
       "  </tbody>\n",
       "</table>\n",
       "</div>"
      ],
      "text/plain": [
       "                                                   prev  \\\n",
       "9554175   Republican_Party_presidential_primaries,_2016   \n",
       "21027236  Republican_Party_presidential_primaries,_2016   \n",
       "7200656   Republican_Party_presidential_primaries,_2016   \n",
       "1900106   Republican_Party_presidential_primaries,_2016   \n",
       "13972021  Republican_Party_presidential_primaries,_2016   \n",
       "\n",
       "                                                       curr  type  april-n  \n",
       "9554175       Democratic_Party_presidential_primaries,_2016  link    40097  \n",
       "21027236  Results_of_the_Republican_Party_presidential_p...  link    18768  \n",
       "7200656       Republican_Party_presidential_primaries,_2012  link    13842  \n",
       "1900106   Statewide_opinion_polling_for_the_Republican_P...  link    13596  \n",
       "13972021                                       Donald_Trump  link     8891  "
      ]
     },
     "execution_count": 43,
     "metadata": {},
     "output_type": "execute_result"
    }
   ],
   "source": [
    "april_df[april_df.prev == \"Republican_Party_presidential_primaries,_2016\"].sort_values('april-n', ascending=False)[:5]"
   ]
  },
  {
   "cell_type": "code",
   "execution_count": 44,
   "metadata": {
    "collapsed": false
   },
   "outputs": [
    {
     "data": {
      "text/html": [
       "<div>\n",
       "<table border=\"1\" class=\"dataframe\">\n",
       "  <thead>\n",
       "    <tr style=\"text-align: right;\">\n",
       "      <th></th>\n",
       "      <th>prev</th>\n",
       "      <th>curr</th>\n",
       "      <th>type</th>\n",
       "      <th>april-n</th>\n",
       "    </tr>\n",
       "  </thead>\n",
       "  <tbody>\n",
       "    <tr>\n",
       "      <th>20345890</th>\n",
       "      <td>Donald_Trump</td>\n",
       "      <td>Melania_Trump</td>\n",
       "      <td>link</td>\n",
       "      <td>101757</td>\n",
       "    </tr>\n",
       "    <tr>\n",
       "      <th>3868275</th>\n",
       "      <td>Donald_Trump</td>\n",
       "      <td>Marla_Maples</td>\n",
       "      <td>link</td>\n",
       "      <td>85562</td>\n",
       "    </tr>\n",
       "    <tr>\n",
       "      <th>6224284</th>\n",
       "      <td>Donald_Trump</td>\n",
       "      <td>Ivana_Trump</td>\n",
       "      <td>link</td>\n",
       "      <td>84558</td>\n",
       "    </tr>\n",
       "    <tr>\n",
       "      <th>5340065</th>\n",
       "      <td>Donald_Trump</td>\n",
       "      <td>Ivanka_Trump</td>\n",
       "      <td>link</td>\n",
       "      <td>63416</td>\n",
       "    </tr>\n",
       "    <tr>\n",
       "      <th>9755952</th>\n",
       "      <td>Donald_Trump</td>\n",
       "      <td>Fred_Trump</td>\n",
       "      <td>link</td>\n",
       "      <td>60105</td>\n",
       "    </tr>\n",
       "  </tbody>\n",
       "</table>\n",
       "</div>"
      ],
      "text/plain": [
       "                  prev           curr  type  april-n\n",
       "20345890  Donald_Trump  Melania_Trump  link   101757\n",
       "3868275   Donald_Trump   Marla_Maples  link    85562\n",
       "6224284   Donald_Trump    Ivana_Trump  link    84558\n",
       "5340065   Donald_Trump   Ivanka_Trump  link    63416\n",
       "9755952   Donald_Trump     Fred_Trump  link    60105"
      ]
     },
     "execution_count": 44,
     "metadata": {},
     "output_type": "execute_result"
    }
   ],
   "source": [
    "april_df[april_df.prev == \"Donald_Trump\"].sort_values('april-n', ascending=False)[:5]"
   ]
  },
  {
   "cell_type": "code",
   "execution_count": 45,
   "metadata": {
    "collapsed": false
   },
   "outputs": [
    {
     "data": {
      "text/html": [
       "<div>\n",
       "<table border=\"1\" class=\"dataframe\">\n",
       "  <thead>\n",
       "    <tr style=\"text-align: right;\">\n",
       "      <th></th>\n",
       "      <th>prev</th>\n",
       "      <th>curr</th>\n",
       "      <th>type</th>\n",
       "      <th>april-n</th>\n",
       "    </tr>\n",
       "  </thead>\n",
       "  <tbody>\n",
       "    <tr>\n",
       "      <th>5949503</th>\n",
       "      <td>Hillary_Clinton</td>\n",
       "      <td>Bill_Clinton</td>\n",
       "      <td>link</td>\n",
       "      <td>30134</td>\n",
       "    </tr>\n",
       "    <tr>\n",
       "      <th>5360928</th>\n",
       "      <td>Hillary_Clinton</td>\n",
       "      <td>Chelsea_Clinton</td>\n",
       "      <td>link</td>\n",
       "      <td>19306</td>\n",
       "    </tr>\n",
       "    <tr>\n",
       "      <th>4478461</th>\n",
       "      <td>Hillary_Clinton</td>\n",
       "      <td>Wellesley_College</td>\n",
       "      <td>link</td>\n",
       "      <td>10881</td>\n",
       "    </tr>\n",
       "    <tr>\n",
       "      <th>18014222</th>\n",
       "      <td>Hillary_Clinton</td>\n",
       "      <td>Condoleezza_Rice</td>\n",
       "      <td>link</td>\n",
       "      <td>5874</td>\n",
       "    </tr>\n",
       "    <tr>\n",
       "      <th>18602866</th>\n",
       "      <td>Hillary_Clinton</td>\n",
       "      <td>Democratic_Party_presidential_primaries,_2016</td>\n",
       "      <td>link</td>\n",
       "      <td>5579</td>\n",
       "    </tr>\n",
       "  </tbody>\n",
       "</table>\n",
       "</div>"
      ],
      "text/plain": [
       "                     prev                                           curr  \\\n",
       "5949503   Hillary_Clinton                                   Bill_Clinton   \n",
       "5360928   Hillary_Clinton                                Chelsea_Clinton   \n",
       "4478461   Hillary_Clinton                              Wellesley_College   \n",
       "18014222  Hillary_Clinton                               Condoleezza_Rice   \n",
       "18602866  Hillary_Clinton  Democratic_Party_presidential_primaries,_2016   \n",
       "\n",
       "          type  april-n  \n",
       "5949503   link    30134  \n",
       "5360928   link    19306  \n",
       "4478461   link    10881  \n",
       "18014222  link     5874  \n",
       "18602866  link     5579  "
      ]
     },
     "execution_count": 45,
     "metadata": {},
     "output_type": "execute_result"
    }
   ],
   "source": [
    "april_df[april_df.prev == \"Hillary_Clinton\"].sort_values('april-n', ascending=False)[:5]"
   ]
  },
  {
   "cell_type": "code",
   "execution_count": 46,
   "metadata": {
    "collapsed": false
   },
   "outputs": [
    {
     "data": {
      "text/html": [
       "<div>\n",
       "<table border=\"1\" class=\"dataframe\">\n",
       "  <thead>\n",
       "    <tr style=\"text-align: right;\">\n",
       "      <th></th>\n",
       "      <th>prev</th>\n",
       "      <th>curr</th>\n",
       "      <th>type</th>\n",
       "      <th>april-n</th>\n",
       "    </tr>\n",
       "  </thead>\n",
       "  <tbody>\n",
       "    <tr>\n",
       "      <th>21206494</th>\n",
       "      <td>Bernie_Sanders</td>\n",
       "      <td>Jane_O'Meara_Sanders</td>\n",
       "      <td>link</td>\n",
       "      <td>52440</td>\n",
       "    </tr>\n",
       "    <tr>\n",
       "      <th>8262552</th>\n",
       "      <td>Bernie_Sanders</td>\n",
       "      <td>Bernie_Sanders_presidential_campaign,_2016</td>\n",
       "      <td>link</td>\n",
       "      <td>9941</td>\n",
       "    </tr>\n",
       "    <tr>\n",
       "      <th>2080278</th>\n",
       "      <td>Bernie_Sanders</td>\n",
       "      <td>Larry_Sanders_(politician)</td>\n",
       "      <td>link</td>\n",
       "      <td>7676</td>\n",
       "    </tr>\n",
       "    <tr>\n",
       "      <th>6496544</th>\n",
       "      <td>Bernie_Sanders</td>\n",
       "      <td>Liberty_Union_Party</td>\n",
       "      <td>link</td>\n",
       "      <td>6263</td>\n",
       "    </tr>\n",
       "    <tr>\n",
       "      <th>901795</th>\n",
       "      <td>Bernie_Sanders</td>\n",
       "      <td>Hillary_Clinton</td>\n",
       "      <td>link</td>\n",
       "      <td>6024</td>\n",
       "    </tr>\n",
       "  </tbody>\n",
       "</table>\n",
       "</div>"
      ],
      "text/plain": [
       "                    prev                                        curr  type  \\\n",
       "21206494  Bernie_Sanders                        Jane_O'Meara_Sanders  link   \n",
       "8262552   Bernie_Sanders  Bernie_Sanders_presidential_campaign,_2016  link   \n",
       "2080278   Bernie_Sanders                  Larry_Sanders_(politician)  link   \n",
       "6496544   Bernie_Sanders                         Liberty_Union_Party  link   \n",
       "901795    Bernie_Sanders                             Hillary_Clinton  link   \n",
       "\n",
       "          april-n  \n",
       "21206494    52440  \n",
       "8262552      9941  \n",
       "2080278      7676  \n",
       "6496544      6263  \n",
       "901795       6024  "
      ]
     },
     "execution_count": 46,
     "metadata": {},
     "output_type": "execute_result"
    }
   ],
   "source": [
    "april_df[april_df.prev == \"Bernie_Sanders\"].sort_values('april-n', ascending=False)[:5]"
   ]
  },
  {
   "cell_type": "code",
   "execution_count": null,
   "metadata": {
    "collapsed": true
   },
   "outputs": [],
   "source": [
    "\n",
    "\"\"\"\n",
    "Javascript error adding output!\n",
    "Error: google.charts.load() cannot be called more than once.\n",
    "See your browser Javascript console for more details.\n",
    "\n",
    "google.charts.load('current', {'packages':['sankey']}); \"\"\"\n",
    "\n"
   ]
  },
  {
   "cell_type": "code",
   "execution_count": 2,
   "metadata": {
    "collapsed": false
   },
   "outputs": [
    {
     "data": {
      "text/html": [
       "\n",
       "<html>\n",
       "  <head>\n",
       "    <script type=\"text/javascript\" src=\"https://www.gstatic.com/charts/loader.js\"></script>\n",
       "    <script type=\"text/javascript\">\n",
       "      google.charts.setOnLoadCallback(drawChart);\n",
       "\n",
       "      function drawChart() {\n",
       "        var data = new google.visualization.DataTable();\n",
       "        data.addColumn('string', 'From');\n",
       "        data.addColumn('string', 'To');\n",
       "        data.addColumn('number', 'Weight');\n",
       "\n",
       "        data.addRows([\n",
       "          [ 'US presidential election, 2016', 'Trump', 8232 ],\n",
       "          [ 'US presidential election, 2016', 'Clinton', 5326 ],\n",
       "          [ 'US presidential election, 2016', 'Sanders', 6947 ],             \n",
       "          [ 'Democratic Party presidential primaries, 2016', 'Sanders', 4338 ],\n",
       "          [ 'Democratic Party presidential primaries, 2016', 'Clinton', 6693 ],\n",
       "          [ 'Republican Party presidential primaries, 2016', 'Trump', 8891 ],\n",
       "          [ 'Trump', 'Melania Trump', 101571 ],\n",
       "          [ 'Trump', 'Marla Maples', 85562 ], \n",
       "          [ 'Clinton', 'Bill Clinton', 30134 ],\n",
       "          [ 'Clinton', 'Chelsea Clinton', 19306 ],    \n",
       "          [ 'Sanders', \"Jane O'Meara Sanders\", 52440 ],\n",
       "          [ 'Sanders', \"Bernie Sanders presidential campaign, 2016\", 9941 ],     \n",
       "                \n",
       "                \n",
       "        ]);\n",
       "\n",
       "        // Sets chart options.\n",
       "        var options = {\n",
       "          width: 600,\n",
       "        };\n",
       "\n",
       "        // Instantiates and draws our chart, passing in some options.\n",
       "        var chart = new google.visualization.Sankey(document.getElementById('sankey'));\n",
       "        chart.draw(data, options);\n",
       "      }\n",
       "    </script>\n",
       "  </head>\n",
       "  <body>\n",
       "    <div id=\"sankey\" style=\"width: 900px; height: 300px;\"></div>\n",
       "  </body>\n",
       "</html>"
      ],
      "text/plain": [
       "<IPython.core.display.HTML object>"
      ]
     },
     "metadata": {},
     "output_type": "display_data"
    }
   ],
   "source": [
    "%%html\n",
    "\n",
    "<html>\n",
    "  <head>\n",
    "    <script type=\"text/javascript\" src=\"https://www.gstatic.com/charts/loader.js\"></script>\n",
    "    <script type=\"text/javascript\">\n",
    "      google.charts.setOnLoadCallback(drawChart);\n",
    "\n",
    "      function drawChart() {\n",
    "        var data = new google.visualization.DataTable();\n",
    "        data.addColumn('string', 'From');\n",
    "        data.addColumn('string', 'To');\n",
    "        data.addColumn('number', 'Weight');\n",
    "\n",
    "        data.addRows([\n",
    "          [ 'US presidential election, 2016', 'Trump', 8232 ],\n",
    "          [ 'US presidential election, 2016', 'Clinton', 5326 ],\n",
    "          [ 'US presidential election, 2016', 'Sanders', 6947 ],             \n",
    "          [ 'Democratic Party presidential primaries, 2016', 'Sanders', 4338 ],\n",
    "          [ 'Democratic Party presidential primaries, 2016', 'Clinton', 6693 ],\n",
    "          [ 'Republican Party presidential primaries, 2016', 'Trump', 8891 ],\n",
    "          [ 'Trump', 'Melania Trump', 101571 ],\n",
    "          [ 'Trump', 'Marla Maples', 85562 ], \n",
    "          [ 'Clinton', 'Bill Clinton', 30134 ],\n",
    "          [ 'Clinton', 'Chelsea Clinton', 19306 ],    \n",
    "          [ 'Sanders', \"Jane O'Meara Sanders\", 52440 ],\n",
    "          [ 'Sanders', \"Bernie Sanders presidential campaign, 2016\", 9941 ],     \n",
    "                \n",
    "                \n",
    "        ]);\n",
    "\n",
    "        // Sets chart options.\n",
    "        var options = {\n",
    "          width: 600,\n",
    "        };\n",
    "\n",
    "        // Instantiates and draws our chart, passing in some options.\n",
    "        var chart = new google.visualization.Sankey(document.getElementById('sankey'));\n",
    "        chart.draw(data, options);\n",
    "      }\n",
    "    </script>\n",
    "  </head>\n",
    "  <body>\n",
    "    <div id=\"sankey\" style=\"width: 900px; height: 300px;\"></div>\n",
    "  </body>\n",
    "</html>"
   ]
  },
  {
   "cell_type": "markdown",
   "metadata": {
    "collapsed": true
   },
   "source": [
    "## Seaborn Viz "
   ]
  },
  {
   "cell_type": "code",
   "execution_count": 123,
   "metadata": {
    "collapsed": true
   },
   "outputs": [],
   "source": [
    "%matplotlib inline"
   ]
  },
  {
   "cell_type": "code",
   "execution_count": 126,
   "metadata": {
    "collapsed": false
   },
   "outputs": [
    {
     "data": {
      "image/png": "[encoded data removed]",
      "text/plain": [
       "<matplotlib.figure.Figure at 0x1c0aa26d0>"
      ]
     },
     "metadata": {},
     "output_type": "display_data"
    }
   ],
   "source": [
    "import seaborn as sns\n",
    "\n",
    "# Load one of the data sets that come with seaborn\n",
    "tips = sns.load_dataset(\"tips\")\n",
    "\n",
    "sns.jointplot(\"total_bill\", \"tip\", tips, kind='reg');"
   ]
  },
  {
   "cell_type": "code",
   "execution_count": null,
   "metadata": {
    "collapsed": true
   },
   "outputs": [],
   "source": [
    "google.charts.load(\"current\", {packages:['corechart']});"
   ]
  },
  {
   "cell_type": "code",
   "execution_count": 51,
   "metadata": {
    "collapsed": false
   },
   "outputs": [
    {
     "data": {
      "text/html": [
       "\n",
       "   \n",
       "   <script type=\"text/javascript\" src=\"https://www.gstatic.com/charts/loader.js\"></script>\n",
       "   <script type=\"text/javascript\">\n",
       "   google.charts.setOnLoadCallback(drawChart);\n",
       "   function drawChart() {\n",
       "     var data = google.visualization.arrayToDataTable([\n",
       "       [\"Element\", \"Density\", { role: \"style\" } ],\n",
       "       [\"Copper\", 8.94, \"#b87333\"],\n",
       "       [\"Silver\", 10.49, \"silver\"],\n",
       "       [\"Gold\", 19.30, \"gold\"],\n",
       "       [\"Platinum\", 21.45, \"color: #e5e4e2\"]\n",
       "     ]);\n",
       "\n",
       "     var view = new google.visualization.DataView(data);\n",
       "     view.setColumns([0, 1,\n",
       "                      { calc: \"stringify\",\n",
       "                        sourceColumn: 1,\n",
       "                        type: \"string\",\n",
       "                        role: \"annotation\" },\n",
       "                      2]);\n",
       "\n",
       "     var options = {\n",
       "       title: \"Density of Precious Metals, in g/cm^3\",\n",
       "       width: 600,\n",
       "       height: 400,\n",
       "       bar: {groupWidth: \"95%\"},\n",
       "       legend: { position: \"none\" },\n",
       "     };\n",
       "     var chart = new google.visualization.ColumnChart(document.getElementById(\"columnchart_values\"));\n",
       "     chart.draw(view, options);\n",
       " }\n",
       "   </script>\n",
       "<div id=\"columnchart_values\" style=\"width: 900px; height: 300px;\"></div>"
      ],
      "text/plain": [
       "<IPython.core.display.HTML object>"
      ]
     },
     "metadata": {},
     "output_type": "display_data"
    }
   ],
   "source": [
    " %%html\n",
    "\n",
    "    \n",
    "    <script type=\"text/javascript\" src=\"https://www.gstatic.com/charts/loader.js\"></script>\n",
    "    <script type=\"text/javascript\">\n",
    "    google.charts.setOnLoadCallback(drawChart);\n",
    "    function drawChart() {\n",
    "      var data = google.visualization.arrayToDataTable([\n",
    "        [\"Element\", \"Density\", { role: \"style\" } ],\n",
    "        [\"Copper\", 8.94, \"#b87333\"],\n",
    "        [\"Silver\", 10.49, \"silver\"],\n",
    "        [\"Gold\", 19.30, \"gold\"],\n",
    "        [\"Platinum\", 21.45, \"color: #e5e4e2\"]\n",
    "      ]);\n",
    "\n",
    "      var view = new google.visualization.DataView(data);\n",
    "      view.setColumns([0, 1,\n",
    "                       { calc: \"stringify\",\n",
    "                         sourceColumn: 1,\n",
    "                         type: \"string\",\n",
    "                         role: \"annotation\" },\n",
    "                       2]);\n",
    "\n",
    "      var options = {\n",
    "        title: \"Density of Precious Metals, in g/cm^3\",\n",
    "        width: 600,\n",
    "        height: 400,\n",
    "        bar: {groupWidth: \"95%\"},\n",
    "        legend: { position: \"none\" },\n",
    "      };\n",
    "      var chart = new google.visualization.ColumnChart(document.getElementById(\"columnchart_values\"));\n",
    "      chart.draw(view, options);\n",
    "  }\n",
    "    </script>\n",
    "<div id=\"columnchart_values\" style=\"width: 900px; height: 300px;\"></div>"
   ]
  },
  {
   "cell_type": "code",
   "execution_count": null,
   "metadata": {
    "collapsed": true
   },
   "outputs": [],
   "source": []
  }
 ],
 "metadata": {
  "kernelspec": {
   "display_name": "Python 2",
   "language": "python",
   "name": "python2"
  },
  "language_info": {
   "codemirror_mode": {
    "name": "ipython",
    "version": 2
   },
   "file_extension": ".py",
   "mimetype": "text/x-python",
   "name": "python",
   "nbconvert_exporter": "python",
   "pygments_lexer": "ipython2",
   "version": "2.7.11"
  }
 },
 "nbformat": 4,
 "nbformat_minor": 0
}
